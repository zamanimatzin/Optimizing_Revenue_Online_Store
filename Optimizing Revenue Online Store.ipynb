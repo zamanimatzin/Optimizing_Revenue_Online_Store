{
 "cells": [
  {
   "cell_type": "markdown",
   "id": "c91ddb96",
   "metadata": {},
   "source": [
    "# Project description\n",
    "\n",
    "You are an analyst at a big online store. Together with the marketing department, you've\n",
    "compiled a list of hypotheses that may help boost revenue.\n",
    "You need to prioritize these hypotheses, launch an A/B test, and analyze the results."
   ]
  },
  {
   "cell_type": "markdown",
   "id": "fb90c645",
   "metadata": {},
   "source": [
    "**Purpose**\n",
    "To identify:\n",
    "- The prioritize these hypotheses\n",
    "- Launch an A/B test\n",
    "- Analyze the results \n",
    "\n",
    "**Action Plan**\n",
    "1) Create 2 part: Part 1 for priortizing hypotheses, Part 2 for A/B testing\n",
    "\n",
    "2) Part 1 : \n",
    "- Used RICE and ICE priortizing framework\n",
    "- Do analyse and conclusion\n",
    "\n",
    "3) Part 2:\n",
    "- Preprocessing : Review and analyse the given data provided, then, fix the data and enrich it for later use in project\n",
    "- Analyse data : Analyse the data\n",
    "- Conclusion : Create overall conclusion "
   ]
  },
  {
   "cell_type": "markdown",
   "id": "a4ccbb30",
   "metadata": {},
   "source": [
    "<h1>Table of Contents<span class=\"tocSkip\"></span></h1>\n",
    "<div class=\"toc\"><ul class=\"toc-item\"><li><span><a href=\"#Project-description\" data-toc-modified-id=\"Project-description-1\"><span class=\"toc-item-num\">1&nbsp;&nbsp;</span>Project description</a></span></li><li><span><a href=\"#Initialization\" data-toc-modified-id=\"Initialization-2\"><span class=\"toc-item-num\">2&nbsp;&nbsp;</span>Initialization</a></span></li><li><span><a href=\"#Load-Data\" data-toc-modified-id=\"Load-Data-3\"><span class=\"toc-item-num\">3&nbsp;&nbsp;</span>Load Data</a></span></li><li><span><a href=\"#Part-1-:-Prioritizing-Hypotheses\" data-toc-modified-id=\"Part-1-:-Prioritizing-Hypotheses-4\"><span class=\"toc-item-num\">4&nbsp;&nbsp;</span>Part 1 : Prioritizing Hypotheses</a></span><ul class=\"toc-item\"><li><span><a href=\"#Preparing-Data\" data-toc-modified-id=\"Preparing-Data-4.1\"><span class=\"toc-item-num\">4.1&nbsp;&nbsp;</span>Preparing Data</a></span><ul class=\"toc-item\"><li><span><a href=\"#General-Information-and-Sample\" data-toc-modified-id=\"General-Information-and-Sample-4.1.1\"><span class=\"toc-item-num\">4.1.1&nbsp;&nbsp;</span>General Information and Sample</a></span></li></ul></li><li><span><a href=\"#ICE-Framework\" data-toc-modified-id=\"ICE-Framework-4.2\"><span class=\"toc-item-num\">4.2&nbsp;&nbsp;</span>ICE Framework</a></span></li><li><span><a href=\"#RICE-Framework\" data-toc-modified-id=\"RICE-Framework-4.3\"><span class=\"toc-item-num\">4.3&nbsp;&nbsp;</span>RICE Framework</a></span></li><li><span><a href=\"#Analysis-and-Conclusion\" data-toc-modified-id=\"Analysis-and-Conclusion-4.4\"><span class=\"toc-item-num\">4.4&nbsp;&nbsp;</span>Analysis and Conclusion</a></span></li></ul></li><li><span><a href=\"#Part-2-:-A/B-Test-Analysis\" data-toc-modified-id=\"Part-2-:-A/B-Test-Analysis-5\"><span class=\"toc-item-num\">5&nbsp;&nbsp;</span>Part 2 : A/B Test Analysis</a></span><ul class=\"toc-item\"><li><span><a href=\"#Preparing-data\" data-toc-modified-id=\"Preparing-data-5.1\"><span class=\"toc-item-num\">5.1&nbsp;&nbsp;</span>Preparing data</a></span><ul class=\"toc-item\"><li><span><a href=\"#Order-Dataframe\" data-toc-modified-id=\"Order-Dataframe-5.1.1\"><span class=\"toc-item-num\">5.1.1&nbsp;&nbsp;</span>Order Dataframe</a></span><ul class=\"toc-item\"><li><span><a href=\"#General-Information-and-Sample\" data-toc-modified-id=\"General-Information-and-Sample-5.1.1.1\"><span class=\"toc-item-num\">5.1.1.1&nbsp;&nbsp;</span>General Information and Sample</a></span></li><li><span><a href=\"#Fix-Dataframe\" data-toc-modified-id=\"Fix-Dataframe-5.1.1.2\"><span class=\"toc-item-num\">5.1.1.2&nbsp;&nbsp;</span>Fix Dataframe</a></span></li></ul></li><li><span><a href=\"#Visitor-Dataframe\" data-toc-modified-id=\"Visitor-Dataframe-5.1.2\"><span class=\"toc-item-num\">5.1.2&nbsp;&nbsp;</span>Visitor Dataframe</a></span><ul class=\"toc-item\"><li><span><a href=\"#General-Information-and-Sample\" data-toc-modified-id=\"General-Information-and-Sample-5.1.2.1\"><span class=\"toc-item-num\">5.1.2.1&nbsp;&nbsp;</span>General Information and Sample</a></span></li><li><span><a href=\"#Fix-Dataframe\" data-toc-modified-id=\"Fix-Dataframe-5.1.2.2\"><span class=\"toc-item-num\">5.1.2.2&nbsp;&nbsp;</span>Fix Dataframe</a></span></li></ul></li></ul></li><li><span><a href=\"#Stability-of-Cumulative-Metrics\" data-toc-modified-id=\"Stability-of-Cumulative-Metrics-5.2\"><span class=\"toc-item-num\">5.2&nbsp;&nbsp;</span>Stability of Cumulative Metrics</a></span><ul class=\"toc-item\"><li><span><a href=\"#Data-Preparing\" data-toc-modified-id=\"Data-Preparing-5.2.1\"><span class=\"toc-item-num\">5.2.1&nbsp;&nbsp;</span>Data Preparing</a></span></li><li><span><a href=\"#Cumulative-Revenue-by-Group\" data-toc-modified-id=\"Cumulative-Revenue-by-Group-5.2.2\"><span class=\"toc-item-num\">5.2.2&nbsp;&nbsp;</span>Cumulative Revenue by Group</a></span></li><li><span><a href=\"#Cumulative-Average-Order-Size-by-Group\" data-toc-modified-id=\"Cumulative-Average-Order-Size-by-Group-5.2.3\"><span class=\"toc-item-num\">5.2.3&nbsp;&nbsp;</span>Cumulative Average Order Size by Group</a></span></li><li><span><a href=\"#Relative-Difference-Cumulative-Average-Order-Size\" data-toc-modified-id=\"Relative-Difference-Cumulative-Average-Order-Size-5.2.4\"><span class=\"toc-item-num\">5.2.4&nbsp;&nbsp;</span>Relative Difference Cumulative Average Order Size</a></span></li><li><span><a href=\"#Cumulative-Conversion-by-Group\" data-toc-modified-id=\"Cumulative-Conversion-by-Group-5.2.5\"><span class=\"toc-item-num\">5.2.5&nbsp;&nbsp;</span>Cumulative Conversion by Group</a></span></li></ul></li><li><span><a href=\"#Analyzing-Outliers-and-Surges:-Extreme-Values\" data-toc-modified-id=\"Analyzing-Outliers-and-Surges:-Extreme-Values-5.3\"><span class=\"toc-item-num\">5.3&nbsp;&nbsp;</span>Analyzing Outliers and Surges: Extreme Values</a></span><ul class=\"toc-item\"><li><span><a href=\"#Order-per-User\" data-toc-modified-id=\"Order-per-User-5.3.1\"><span class=\"toc-item-num\">5.3.1&nbsp;&nbsp;</span>Order per User</a></span></li><li><span><a href=\"#Order-Prices\" data-toc-modified-id=\"Order-Prices-5.3.2\"><span class=\"toc-item-num\">5.3.2&nbsp;&nbsp;</span>Order Prices</a></span></li></ul></li><li><span><a href=\"#Statistical-Significance\" data-toc-modified-id=\"Statistical-Significance-5.4\"><span class=\"toc-item-num\">5.4&nbsp;&nbsp;</span>Statistical Significance</a></span><ul class=\"toc-item\"><li><span><a href=\"#Raw-Data\" data-toc-modified-id=\"Raw-Data-5.4.1\"><span class=\"toc-item-num\">5.4.1&nbsp;&nbsp;</span>Raw Data</a></span><ul class=\"toc-item\"><li><span><a href=\"#Statistical-Significance-of-the-Difference-in-Conversion-between-Groups.\" data-toc-modified-id=\"Statistical-Significance-of-the-Difference-in-Conversion-between-Groups.-5.4.1.1\"><span class=\"toc-item-num\">5.4.1.1&nbsp;&nbsp;</span>Statistical Significance of the Difference in Conversion between Groups.</a></span></li><li><span><a href=\"#Statistical-Significance-of-the-Difference-in-Average-Order-Size-between-Groups.\" data-toc-modified-id=\"Statistical-Significance-of-the-Difference-in-Average-Order-Size-between-Groups.-5.4.1.2\"><span class=\"toc-item-num\">5.4.1.2&nbsp;&nbsp;</span>Statistical Significance of the Difference in Average Order Size between Groups.</a></span></li></ul></li><li><span><a href=\"#Filtered-Data\" data-toc-modified-id=\"Filtered-Data-5.4.2\"><span class=\"toc-item-num\">5.4.2&nbsp;&nbsp;</span>Filtered Data</a></span><ul class=\"toc-item\"><li><span><a href=\"#Statistical-Significance-of-the-Difference-in-Conversion-between-Groups\" data-toc-modified-id=\"Statistical-Significance-of-the-Difference-in-Conversion-between-Groups-5.4.2.1\"><span class=\"toc-item-num\">5.4.2.1&nbsp;&nbsp;</span>Statistical Significance of the Difference in Conversion between Groups</a></span></li><li><span><a href=\"#Statistical-Significance-of-the-Difference-in-Average-Order-Size-between-Groups.\" data-toc-modified-id=\"Statistical-Significance-of-the-Difference-in-Average-Order-Size-between-Groups.-5.4.2.2\"><span class=\"toc-item-num\">5.4.2.2&nbsp;&nbsp;</span>Statistical Significance of the Difference in Average Order Size between Groups.</a></span></li></ul></li></ul></li><li><span><a href=\"#Decisions-from-A/B-Test\" data-toc-modified-id=\"Decisions-from-A/B-Test-5.5\"><span class=\"toc-item-num\">5.5&nbsp;&nbsp;</span>Decisions from A/B Test</a></span></li></ul></li></ul></div>"
   ]
  },
  {
   "cell_type": "markdown",
   "id": "525d6079",
   "metadata": {},
   "source": [
    "# Initialization"
   ]
  },
  {
   "cell_type": "markdown",
   "id": "3b78d52f",
   "metadata": {},
   "source": [
    "Loading all the libraries that used for the project"
   ]
  },
  {
   "cell_type": "code",
   "execution_count": 1,
   "id": "06553048",
   "metadata": {
    "ExecuteTime": {
     "end_time": "2023-08-15T09:32:06.511809Z",
     "start_time": "2023-08-15T09:32:05.436264Z"
    }
   },
   "outputs": [],
   "source": [
    "import pandas as pd\n",
    "pd.set_option('max_colwidth', 450)\n",
    "import matplotlib.pyplot as plt\n",
    "import numpy as np\n",
    "import seaborn as sns\n",
    "import scipy.stats as stats"
   ]
  },
  {
   "cell_type": "markdown",
   "id": "1c2dbe81",
   "metadata": {},
   "source": [
    "# Load Data"
   ]
  },
  {
   "cell_type": "markdown",
   "id": "c84a073f",
   "metadata": {},
   "source": [
    "Load the data files into DataFrames variables "
   ]
  },
  {
   "cell_type": "code",
   "execution_count": 2,
   "id": "c429cdf8",
   "metadata": {
    "ExecuteTime": {
     "end_time": "2023-08-15T09:32:06.527813Z",
     "start_time": "2023-08-15T09:32:06.512809Z"
    }
   },
   "outputs": [],
   "source": [
    "hypothesis = pd.read_csv('/datasets/hypotheses_us.csv')\n",
    "order = pd.read_csv('/datasets/orders_us.csv')\n",
    "visitor = pd.read_csv('/datasets/visits_us.csv')"
   ]
  },
  {
   "cell_type": "markdown",
   "id": "5cf46607",
   "metadata": {},
   "source": [
    "# Part 1 : Prioritizing Hypotheses"
   ]
  },
  {
   "cell_type": "markdown",
   "id": "02570c0f",
   "metadata": {},
   "source": [
    "## Preparing Data "
   ]
  },
  {
   "cell_type": "markdown",
   "id": "a048449c",
   "metadata": {},
   "source": [
    "Understanding the hypothesis dataframe."
   ]
  },
  {
   "cell_type": "markdown",
   "id": "aea08e2c",
   "metadata": {},
   "source": [
    "### General Information and Sample"
   ]
  },
  {
   "cell_type": "markdown",
   "id": "c25a1265",
   "metadata": {},
   "source": [
    "Print the general information and sample about the hypothesis dataFrame"
   ]
  },
  {
   "cell_type": "code",
   "execution_count": 3,
   "id": "5cd87019",
   "metadata": {
    "ExecuteTime": {
     "end_time": "2023-08-15T09:32:06.543320Z",
     "start_time": "2023-08-15T09:32:06.528814Z"
    }
   },
   "outputs": [
    {
     "data": {
      "text/html": [
       "<div>\n",
       "<style scoped>\n",
       "    .dataframe tbody tr th:only-of-type {\n",
       "        vertical-align: middle;\n",
       "    }\n",
       "\n",
       "    .dataframe tbody tr th {\n",
       "        vertical-align: top;\n",
       "    }\n",
       "\n",
       "    .dataframe thead th {\n",
       "        text-align: right;\n",
       "    }\n",
       "</style>\n",
       "<table border=\"1\" class=\"dataframe\">\n",
       "  <thead>\n",
       "    <tr style=\"text-align: right;\">\n",
       "      <th></th>\n",
       "      <th>Hypothesis</th>\n",
       "      <th>Reach</th>\n",
       "      <th>Impact</th>\n",
       "      <th>Confidence</th>\n",
       "      <th>Effort</th>\n",
       "    </tr>\n",
       "  </thead>\n",
       "  <tbody>\n",
       "    <tr>\n",
       "      <th>0</th>\n",
       "      <td>Add two new channels for attracting traffic. This will bring 30% more users</td>\n",
       "      <td>3</td>\n",
       "      <td>10</td>\n",
       "      <td>8</td>\n",
       "      <td>6</td>\n",
       "    </tr>\n",
       "    <tr>\n",
       "      <th>1</th>\n",
       "      <td>Launch your own delivery service. This will shorten delivery time</td>\n",
       "      <td>2</td>\n",
       "      <td>5</td>\n",
       "      <td>4</td>\n",
       "      <td>10</td>\n",
       "    </tr>\n",
       "    <tr>\n",
       "      <th>2</th>\n",
       "      <td>Add product recommendation blocks to the store's site. This will increase conversion and average purchase size</td>\n",
       "      <td>8</td>\n",
       "      <td>3</td>\n",
       "      <td>7</td>\n",
       "      <td>3</td>\n",
       "    </tr>\n",
       "    <tr>\n",
       "      <th>3</th>\n",
       "      <td>Change the category structure. This will increase conversion since users will find the products they want more quickly</td>\n",
       "      <td>8</td>\n",
       "      <td>3</td>\n",
       "      <td>3</td>\n",
       "      <td>8</td>\n",
       "    </tr>\n",
       "    <tr>\n",
       "      <th>4</th>\n",
       "      <td>Change the background color on the main page. This will increase user engagement</td>\n",
       "      <td>3</td>\n",
       "      <td>1</td>\n",
       "      <td>1</td>\n",
       "      <td>1</td>\n",
       "    </tr>\n",
       "    <tr>\n",
       "      <th>5</th>\n",
       "      <td>Add a customer review page. This will increase the number of orders</td>\n",
       "      <td>3</td>\n",
       "      <td>2</td>\n",
       "      <td>2</td>\n",
       "      <td>3</td>\n",
       "    </tr>\n",
       "    <tr>\n",
       "      <th>6</th>\n",
       "      <td>Show banners with current offers and sales on the main page. This will boost conversion</td>\n",
       "      <td>5</td>\n",
       "      <td>3</td>\n",
       "      <td>8</td>\n",
       "      <td>3</td>\n",
       "    </tr>\n",
       "    <tr>\n",
       "      <th>7</th>\n",
       "      <td>Add a subscription form to all the main pages. This will help you compile a mailing list</td>\n",
       "      <td>10</td>\n",
       "      <td>7</td>\n",
       "      <td>8</td>\n",
       "      <td>5</td>\n",
       "    </tr>\n",
       "    <tr>\n",
       "      <th>8</th>\n",
       "      <td>Launch a promotion that gives users discounts on their birthdays</td>\n",
       "      <td>1</td>\n",
       "      <td>9</td>\n",
       "      <td>9</td>\n",
       "      <td>5</td>\n",
       "    </tr>\n",
       "  </tbody>\n",
       "</table>\n",
       "</div>"
      ],
      "text/plain": [
       "                                                                                                               Hypothesis  \\\n",
       "0                                             Add two new channels for attracting traffic. This will bring 30% more users   \n",
       "1                                                       Launch your own delivery service. This will shorten delivery time   \n",
       "2          Add product recommendation blocks to the store's site. This will increase conversion and average purchase size   \n",
       "3  Change the category structure. This will increase conversion since users will find the products they want more quickly   \n",
       "4                                        Change the background color on the main page. This will increase user engagement   \n",
       "5                                                     Add a customer review page. This will increase the number of orders   \n",
       "6                                 Show banners with current offers and sales on the main page. This will boost conversion   \n",
       "7                                Add a subscription form to all the main pages. This will help you compile a mailing list   \n",
       "8                                                        Launch a promotion that gives users discounts on their birthdays   \n",
       "\n",
       "   Reach  Impact  Confidence  Effort  \n",
       "0      3      10           8       6  \n",
       "1      2       5           4      10  \n",
       "2      8       3           7       3  \n",
       "3      8       3           3       8  \n",
       "4      3       1           1       1  \n",
       "5      3       2           2       3  \n",
       "6      5       3           8       3  \n",
       "7     10       7           8       5  \n",
       "8      1       9           9       5  "
      ]
     },
     "execution_count": 3,
     "metadata": {},
     "output_type": "execute_result"
    }
   ],
   "source": [
    "hypothesis"
   ]
  },
  {
   "cell_type": "code",
   "execution_count": 4,
   "id": "59f38903",
   "metadata": {
    "ExecuteTime": {
     "end_time": "2023-08-15T09:32:06.559323Z",
     "start_time": "2023-08-15T09:32:06.545320Z"
    }
   },
   "outputs": [
    {
     "name": "stdout",
     "output_type": "stream",
     "text": [
      "<class 'pandas.core.frame.DataFrame'>\n",
      "RangeIndex: 9 entries, 0 to 8\n",
      "Data columns (total 5 columns):\n",
      " #   Column      Non-Null Count  Dtype \n",
      "---  ------      --------------  ----- \n",
      " 0   Hypothesis  9 non-null      object\n",
      " 1   Reach       9 non-null      int64 \n",
      " 2   Impact      9 non-null      int64 \n",
      " 3   Confidence  9 non-null      int64 \n",
      " 4   Effort      9 non-null      int64 \n",
      "dtypes: int64(4), object(1)\n",
      "memory usage: 488.0+ bytes\n"
     ]
    }
   ],
   "source": [
    "hypothesis.info()"
   ]
  },
  {
   "cell_type": "code",
   "execution_count": 5,
   "id": "d6156242",
   "metadata": {
    "ExecuteTime": {
     "end_time": "2023-08-15T09:32:06.575327Z",
     "start_time": "2023-08-15T09:32:06.560325Z"
    }
   },
   "outputs": [
    {
     "data": {
      "text/plain": [
       "0"
      ]
     },
     "execution_count": 5,
     "metadata": {},
     "output_type": "execute_result"
    }
   ],
   "source": [
    "hypothesis.duplicated().sum()"
   ]
  },
  {
   "cell_type": "markdown",
   "id": "d14d6f7b",
   "metadata": {},
   "source": [
    "Hypothesis dataframe is okay and ready to analyse"
   ]
  },
  {
   "cell_type": "markdown",
   "id": "ffd3b9f6",
   "metadata": {},
   "source": [
    "## ICE Framework"
   ]
  },
  {
   "cell_type": "markdown",
   "id": "cd518c26",
   "metadata": {},
   "source": [
    "Apply the ICE framework to prioritize hypotheses and sort in descending order of priority."
   ]
  },
  {
   "cell_type": "code",
   "execution_count": 6,
   "id": "ce2f4fa9",
   "metadata": {
    "ExecuteTime": {
     "end_time": "2023-08-15T09:32:06.591331Z",
     "start_time": "2023-08-15T09:32:06.576327Z"
    }
   },
   "outputs": [],
   "source": [
    "hypothesis['ICE'] =  hypothesis['Impact'] * hypothesis['Confidence'] / hypothesis['Effort']\n"
   ]
  },
  {
   "cell_type": "code",
   "execution_count": 7,
   "id": "b36c9c6d",
   "metadata": {
    "ExecuteTime": {
     "end_time": "2023-08-15T09:32:06.607334Z",
     "start_time": "2023-08-15T09:32:06.592332Z"
    }
   },
   "outputs": [
    {
     "data": {
      "text/html": [
       "<div>\n",
       "<style scoped>\n",
       "    .dataframe tbody tr th:only-of-type {\n",
       "        vertical-align: middle;\n",
       "    }\n",
       "\n",
       "    .dataframe tbody tr th {\n",
       "        vertical-align: top;\n",
       "    }\n",
       "\n",
       "    .dataframe thead th {\n",
       "        text-align: right;\n",
       "    }\n",
       "</style>\n",
       "<table border=\"1\" class=\"dataframe\">\n",
       "  <thead>\n",
       "    <tr style=\"text-align: right;\">\n",
       "      <th></th>\n",
       "      <th>Hypothesis</th>\n",
       "      <th>Reach</th>\n",
       "      <th>Impact</th>\n",
       "      <th>Confidence</th>\n",
       "      <th>Effort</th>\n",
       "      <th>ICE</th>\n",
       "    </tr>\n",
       "  </thead>\n",
       "  <tbody>\n",
       "    <tr>\n",
       "      <th>8</th>\n",
       "      <td>Launch a promotion that gives users discounts on their birthdays</td>\n",
       "      <td>1</td>\n",
       "      <td>9</td>\n",
       "      <td>9</td>\n",
       "      <td>5</td>\n",
       "      <td>16.200000</td>\n",
       "    </tr>\n",
       "    <tr>\n",
       "      <th>0</th>\n",
       "      <td>Add two new channels for attracting traffic. This will bring 30% more users</td>\n",
       "      <td>3</td>\n",
       "      <td>10</td>\n",
       "      <td>8</td>\n",
       "      <td>6</td>\n",
       "      <td>13.333333</td>\n",
       "    </tr>\n",
       "    <tr>\n",
       "      <th>7</th>\n",
       "      <td>Add a subscription form to all the main pages. This will help you compile a mailing list</td>\n",
       "      <td>10</td>\n",
       "      <td>7</td>\n",
       "      <td>8</td>\n",
       "      <td>5</td>\n",
       "      <td>11.200000</td>\n",
       "    </tr>\n",
       "    <tr>\n",
       "      <th>6</th>\n",
       "      <td>Show banners with current offers and sales on the main page. This will boost conversion</td>\n",
       "      <td>5</td>\n",
       "      <td>3</td>\n",
       "      <td>8</td>\n",
       "      <td>3</td>\n",
       "      <td>8.000000</td>\n",
       "    </tr>\n",
       "    <tr>\n",
       "      <th>2</th>\n",
       "      <td>Add product recommendation blocks to the store's site. This will increase conversion and average purchase size</td>\n",
       "      <td>8</td>\n",
       "      <td>3</td>\n",
       "      <td>7</td>\n",
       "      <td>3</td>\n",
       "      <td>7.000000</td>\n",
       "    </tr>\n",
       "    <tr>\n",
       "      <th>1</th>\n",
       "      <td>Launch your own delivery service. This will shorten delivery time</td>\n",
       "      <td>2</td>\n",
       "      <td>5</td>\n",
       "      <td>4</td>\n",
       "      <td>10</td>\n",
       "      <td>2.000000</td>\n",
       "    </tr>\n",
       "    <tr>\n",
       "      <th>5</th>\n",
       "      <td>Add a customer review page. This will increase the number of orders</td>\n",
       "      <td>3</td>\n",
       "      <td>2</td>\n",
       "      <td>2</td>\n",
       "      <td>3</td>\n",
       "      <td>1.333333</td>\n",
       "    </tr>\n",
       "    <tr>\n",
       "      <th>3</th>\n",
       "      <td>Change the category structure. This will increase conversion since users will find the products they want more quickly</td>\n",
       "      <td>8</td>\n",
       "      <td>3</td>\n",
       "      <td>3</td>\n",
       "      <td>8</td>\n",
       "      <td>1.125000</td>\n",
       "    </tr>\n",
       "    <tr>\n",
       "      <th>4</th>\n",
       "      <td>Change the background color on the main page. This will increase user engagement</td>\n",
       "      <td>3</td>\n",
       "      <td>1</td>\n",
       "      <td>1</td>\n",
       "      <td>1</td>\n",
       "      <td>1.000000</td>\n",
       "    </tr>\n",
       "  </tbody>\n",
       "</table>\n",
       "</div>"
      ],
      "text/plain": [
       "                                                                                                               Hypothesis  \\\n",
       "8                                                        Launch a promotion that gives users discounts on their birthdays   \n",
       "0                                             Add two new channels for attracting traffic. This will bring 30% more users   \n",
       "7                                Add a subscription form to all the main pages. This will help you compile a mailing list   \n",
       "6                                 Show banners with current offers and sales on the main page. This will boost conversion   \n",
       "2          Add product recommendation blocks to the store's site. This will increase conversion and average purchase size   \n",
       "1                                                       Launch your own delivery service. This will shorten delivery time   \n",
       "5                                                     Add a customer review page. This will increase the number of orders   \n",
       "3  Change the category structure. This will increase conversion since users will find the products they want more quickly   \n",
       "4                                        Change the background color on the main page. This will increase user engagement   \n",
       "\n",
       "   Reach  Impact  Confidence  Effort        ICE  \n",
       "8      1       9           9       5  16.200000  \n",
       "0      3      10           8       6  13.333333  \n",
       "7     10       7           8       5  11.200000  \n",
       "6      5       3           8       3   8.000000  \n",
       "2      8       3           7       3   7.000000  \n",
       "1      2       5           4      10   2.000000  \n",
       "5      3       2           2       3   1.333333  \n",
       "3      8       3           3       8   1.125000  \n",
       "4      3       1           1       1   1.000000  "
      ]
     },
     "execution_count": 7,
     "metadata": {},
     "output_type": "execute_result"
    }
   ],
   "source": [
    "hypothesis.sort_values(by='ICE',ascending=False)"
   ]
  },
  {
   "cell_type": "markdown",
   "id": "224ac5af",
   "metadata": {},
   "source": [
    "## RICE Framework"
   ]
  },
  {
   "cell_type": "code",
   "execution_count": 8,
   "id": "884a47f5",
   "metadata": {
    "ExecuteTime": {
     "end_time": "2023-08-15T09:32:06.623339Z",
     "start_time": "2023-08-15T09:32:06.608335Z"
    }
   },
   "outputs": [
    {
     "data": {
      "text/html": [
       "<div>\n",
       "<style scoped>\n",
       "    .dataframe tbody tr th:only-of-type {\n",
       "        vertical-align: middle;\n",
       "    }\n",
       "\n",
       "    .dataframe tbody tr th {\n",
       "        vertical-align: top;\n",
       "    }\n",
       "\n",
       "    .dataframe thead th {\n",
       "        text-align: right;\n",
       "    }\n",
       "</style>\n",
       "<table border=\"1\" class=\"dataframe\">\n",
       "  <thead>\n",
       "    <tr style=\"text-align: right;\">\n",
       "      <th></th>\n",
       "      <th>Hypothesis</th>\n",
       "      <th>Reach</th>\n",
       "      <th>Impact</th>\n",
       "      <th>Confidence</th>\n",
       "      <th>Effort</th>\n",
       "      <th>ICE</th>\n",
       "      <th>RICE</th>\n",
       "    </tr>\n",
       "  </thead>\n",
       "  <tbody>\n",
       "    <tr>\n",
       "      <th>0</th>\n",
       "      <td>Add two new channels for attracting traffic. This will bring 30% more users</td>\n",
       "      <td>3</td>\n",
       "      <td>10</td>\n",
       "      <td>8</td>\n",
       "      <td>6</td>\n",
       "      <td>13.333333</td>\n",
       "      <td>40.0</td>\n",
       "    </tr>\n",
       "    <tr>\n",
       "      <th>1</th>\n",
       "      <td>Launch your own delivery service. This will shorten delivery time</td>\n",
       "      <td>2</td>\n",
       "      <td>5</td>\n",
       "      <td>4</td>\n",
       "      <td>10</td>\n",
       "      <td>2.000000</td>\n",
       "      <td>4.0</td>\n",
       "    </tr>\n",
       "    <tr>\n",
       "      <th>2</th>\n",
       "      <td>Add product recommendation blocks to the store's site. This will increase conversion and average purchase size</td>\n",
       "      <td>8</td>\n",
       "      <td>3</td>\n",
       "      <td>7</td>\n",
       "      <td>3</td>\n",
       "      <td>7.000000</td>\n",
       "      <td>56.0</td>\n",
       "    </tr>\n",
       "    <tr>\n",
       "      <th>3</th>\n",
       "      <td>Change the category structure. This will increase conversion since users will find the products they want more quickly</td>\n",
       "      <td>8</td>\n",
       "      <td>3</td>\n",
       "      <td>3</td>\n",
       "      <td>8</td>\n",
       "      <td>1.125000</td>\n",
       "      <td>9.0</td>\n",
       "    </tr>\n",
       "    <tr>\n",
       "      <th>4</th>\n",
       "      <td>Change the background color on the main page. This will increase user engagement</td>\n",
       "      <td>3</td>\n",
       "      <td>1</td>\n",
       "      <td>1</td>\n",
       "      <td>1</td>\n",
       "      <td>1.000000</td>\n",
       "      <td>3.0</td>\n",
       "    </tr>\n",
       "    <tr>\n",
       "      <th>5</th>\n",
       "      <td>Add a customer review page. This will increase the number of orders</td>\n",
       "      <td>3</td>\n",
       "      <td>2</td>\n",
       "      <td>2</td>\n",
       "      <td>3</td>\n",
       "      <td>1.333333</td>\n",
       "      <td>4.0</td>\n",
       "    </tr>\n",
       "    <tr>\n",
       "      <th>6</th>\n",
       "      <td>Show banners with current offers and sales on the main page. This will boost conversion</td>\n",
       "      <td>5</td>\n",
       "      <td>3</td>\n",
       "      <td>8</td>\n",
       "      <td>3</td>\n",
       "      <td>8.000000</td>\n",
       "      <td>40.0</td>\n",
       "    </tr>\n",
       "    <tr>\n",
       "      <th>7</th>\n",
       "      <td>Add a subscription form to all the main pages. This will help you compile a mailing list</td>\n",
       "      <td>10</td>\n",
       "      <td>7</td>\n",
       "      <td>8</td>\n",
       "      <td>5</td>\n",
       "      <td>11.200000</td>\n",
       "      <td>112.0</td>\n",
       "    </tr>\n",
       "    <tr>\n",
       "      <th>8</th>\n",
       "      <td>Launch a promotion that gives users discounts on their birthdays</td>\n",
       "      <td>1</td>\n",
       "      <td>9</td>\n",
       "      <td>9</td>\n",
       "      <td>5</td>\n",
       "      <td>16.200000</td>\n",
       "      <td>16.2</td>\n",
       "    </tr>\n",
       "  </tbody>\n",
       "</table>\n",
       "</div>"
      ],
      "text/plain": [
       "                                                                                                               Hypothesis  \\\n",
       "0                                             Add two new channels for attracting traffic. This will bring 30% more users   \n",
       "1                                                       Launch your own delivery service. This will shorten delivery time   \n",
       "2          Add product recommendation blocks to the store's site. This will increase conversion and average purchase size   \n",
       "3  Change the category structure. This will increase conversion since users will find the products they want more quickly   \n",
       "4                                        Change the background color on the main page. This will increase user engagement   \n",
       "5                                                     Add a customer review page. This will increase the number of orders   \n",
       "6                                 Show banners with current offers and sales on the main page. This will boost conversion   \n",
       "7                                Add a subscription form to all the main pages. This will help you compile a mailing list   \n",
       "8                                                        Launch a promotion that gives users discounts on their birthdays   \n",
       "\n",
       "   Reach  Impact  Confidence  Effort        ICE   RICE  \n",
       "0      3      10           8       6  13.333333   40.0  \n",
       "1      2       5           4      10   2.000000    4.0  \n",
       "2      8       3           7       3   7.000000   56.0  \n",
       "3      8       3           3       8   1.125000    9.0  \n",
       "4      3       1           1       1   1.000000    3.0  \n",
       "5      3       2           2       3   1.333333    4.0  \n",
       "6      5       3           8       3   8.000000   40.0  \n",
       "7     10       7           8       5  11.200000  112.0  \n",
       "8      1       9           9       5  16.200000   16.2  "
      ]
     },
     "execution_count": 8,
     "metadata": {},
     "output_type": "execute_result"
    }
   ],
   "source": [
    "hypothesis['RICE'] = hypothesis['Reach'] * hypothesis['Impact'] * hypothesis['Confidence'] / hypothesis['Effort']\n",
    "hypothesis"
   ]
  },
  {
   "cell_type": "code",
   "execution_count": 9,
   "id": "883e774c",
   "metadata": {
    "ExecuteTime": {
     "end_time": "2023-08-15T09:32:06.639344Z",
     "start_time": "2023-08-15T09:32:06.624338Z"
    }
   },
   "outputs": [
    {
     "data": {
      "text/html": [
       "<div>\n",
       "<style scoped>\n",
       "    .dataframe tbody tr th:only-of-type {\n",
       "        vertical-align: middle;\n",
       "    }\n",
       "\n",
       "    .dataframe tbody tr th {\n",
       "        vertical-align: top;\n",
       "    }\n",
       "\n",
       "    .dataframe thead th {\n",
       "        text-align: right;\n",
       "    }\n",
       "</style>\n",
       "<table border=\"1\" class=\"dataframe\">\n",
       "  <thead>\n",
       "    <tr style=\"text-align: right;\">\n",
       "      <th></th>\n",
       "      <th>Hypothesis</th>\n",
       "      <th>Reach</th>\n",
       "      <th>Impact</th>\n",
       "      <th>Confidence</th>\n",
       "      <th>Effort</th>\n",
       "      <th>ICE</th>\n",
       "      <th>RICE</th>\n",
       "    </tr>\n",
       "  </thead>\n",
       "  <tbody>\n",
       "    <tr>\n",
       "      <th>7</th>\n",
       "      <td>Add a subscription form to all the main pages. This will help you compile a mailing list</td>\n",
       "      <td>10</td>\n",
       "      <td>7</td>\n",
       "      <td>8</td>\n",
       "      <td>5</td>\n",
       "      <td>11.200000</td>\n",
       "      <td>112.0</td>\n",
       "    </tr>\n",
       "    <tr>\n",
       "      <th>2</th>\n",
       "      <td>Add product recommendation blocks to the store's site. This will increase conversion and average purchase size</td>\n",
       "      <td>8</td>\n",
       "      <td>3</td>\n",
       "      <td>7</td>\n",
       "      <td>3</td>\n",
       "      <td>7.000000</td>\n",
       "      <td>56.0</td>\n",
       "    </tr>\n",
       "    <tr>\n",
       "      <th>0</th>\n",
       "      <td>Add two new channels for attracting traffic. This will bring 30% more users</td>\n",
       "      <td>3</td>\n",
       "      <td>10</td>\n",
       "      <td>8</td>\n",
       "      <td>6</td>\n",
       "      <td>13.333333</td>\n",
       "      <td>40.0</td>\n",
       "    </tr>\n",
       "    <tr>\n",
       "      <th>6</th>\n",
       "      <td>Show banners with current offers and sales on the main page. This will boost conversion</td>\n",
       "      <td>5</td>\n",
       "      <td>3</td>\n",
       "      <td>8</td>\n",
       "      <td>3</td>\n",
       "      <td>8.000000</td>\n",
       "      <td>40.0</td>\n",
       "    </tr>\n",
       "    <tr>\n",
       "      <th>8</th>\n",
       "      <td>Launch a promotion that gives users discounts on their birthdays</td>\n",
       "      <td>1</td>\n",
       "      <td>9</td>\n",
       "      <td>9</td>\n",
       "      <td>5</td>\n",
       "      <td>16.200000</td>\n",
       "      <td>16.2</td>\n",
       "    </tr>\n",
       "    <tr>\n",
       "      <th>3</th>\n",
       "      <td>Change the category structure. This will increase conversion since users will find the products they want more quickly</td>\n",
       "      <td>8</td>\n",
       "      <td>3</td>\n",
       "      <td>3</td>\n",
       "      <td>8</td>\n",
       "      <td>1.125000</td>\n",
       "      <td>9.0</td>\n",
       "    </tr>\n",
       "    <tr>\n",
       "      <th>1</th>\n",
       "      <td>Launch your own delivery service. This will shorten delivery time</td>\n",
       "      <td>2</td>\n",
       "      <td>5</td>\n",
       "      <td>4</td>\n",
       "      <td>10</td>\n",
       "      <td>2.000000</td>\n",
       "      <td>4.0</td>\n",
       "    </tr>\n",
       "    <tr>\n",
       "      <th>5</th>\n",
       "      <td>Add a customer review page. This will increase the number of orders</td>\n",
       "      <td>3</td>\n",
       "      <td>2</td>\n",
       "      <td>2</td>\n",
       "      <td>3</td>\n",
       "      <td>1.333333</td>\n",
       "      <td>4.0</td>\n",
       "    </tr>\n",
       "    <tr>\n",
       "      <th>4</th>\n",
       "      <td>Change the background color on the main page. This will increase user engagement</td>\n",
       "      <td>3</td>\n",
       "      <td>1</td>\n",
       "      <td>1</td>\n",
       "      <td>1</td>\n",
       "      <td>1.000000</td>\n",
       "      <td>3.0</td>\n",
       "    </tr>\n",
       "  </tbody>\n",
       "</table>\n",
       "</div>"
      ],
      "text/plain": [
       "                                                                                                               Hypothesis  \\\n",
       "7                                Add a subscription form to all the main pages. This will help you compile a mailing list   \n",
       "2          Add product recommendation blocks to the store's site. This will increase conversion and average purchase size   \n",
       "0                                             Add two new channels for attracting traffic. This will bring 30% more users   \n",
       "6                                 Show banners with current offers and sales on the main page. This will boost conversion   \n",
       "8                                                        Launch a promotion that gives users discounts on their birthdays   \n",
       "3  Change the category structure. This will increase conversion since users will find the products they want more quickly   \n",
       "1                                                       Launch your own delivery service. This will shorten delivery time   \n",
       "5                                                     Add a customer review page. This will increase the number of orders   \n",
       "4                                        Change the background color on the main page. This will increase user engagement   \n",
       "\n",
       "   Reach  Impact  Confidence  Effort        ICE   RICE  \n",
       "7     10       7           8       5  11.200000  112.0  \n",
       "2      8       3           7       3   7.000000   56.0  \n",
       "0      3      10           8       6  13.333333   40.0  \n",
       "6      5       3           8       3   8.000000   40.0  \n",
       "8      1       9           9       5  16.200000   16.2  \n",
       "3      8       3           3       8   1.125000    9.0  \n",
       "1      2       5           4      10   2.000000    4.0  \n",
       "5      3       2           2       3   1.333333    4.0  \n",
       "4      3       1           1       1   1.000000    3.0  "
      ]
     },
     "execution_count": 9,
     "metadata": {},
     "output_type": "execute_result"
    }
   ],
   "source": [
    "hypothesis.sort_values(by='RICE',ascending=False)"
   ]
  },
  {
   "cell_type": "markdown",
   "id": "3124996f",
   "metadata": {},
   "source": [
    "## Analysis and Conclusion"
   ]
  },
  {
   "cell_type": "markdown",
   "id": "98f41f15",
   "metadata": {},
   "source": [
    "Here, the sorting row for hypotheses for ICE and RICE were different. In ICE, hypothesis in index 8 is the most prioritize with 16.2 score, while in RICE, hypothesis in index 7 is the most prioritize while hypothesis in index 8 in 4th placed. \n",
    "\n",
    "The main difference between RICE and ICE is that RICE includes the factor of reach, which considers the number of users or customers who will be affected by the idea. This make RICE take consider the potential impact on people while ICE miss out that point.\n",
    "\n",
    "Overall, the prioritize hypotheses is different on what prioritize framework used. RICE is more comprehensive and may be a better framework to use when evaluating ideas or features that include prioritize on customer. ICE is more appropiate when evaluating ideas or features with small scope or impact. However, the choice of framework ultimately depends on the specific circumstances and goals of the organization.   "
   ]
  },
  {
   "cell_type": "markdown",
   "id": "1d9dea8b",
   "metadata": {},
   "source": [
    "# Part 2 : A/B Test Analysis"
   ]
  },
  {
   "cell_type": "markdown",
   "id": "45056faf",
   "metadata": {},
   "source": [
    "A/B testing is a method of comparing two different group. From the data, there are 2 group which are A and B that will be comparing from this analysis."
   ]
  },
  {
   "cell_type": "markdown",
   "id": "f73efce9",
   "metadata": {},
   "source": [
    "## Preparing data"
   ]
  },
  {
   "cell_type": "markdown",
   "id": "65702899",
   "metadata": {},
   "source": [
    "### Order Dataframe"
   ]
  },
  {
   "cell_type": "markdown",
   "id": "245d3b71",
   "metadata": {},
   "source": [
    "Understanding the order dataframe."
   ]
  },
  {
   "cell_type": "markdown",
   "id": "d8126558",
   "metadata": {},
   "source": [
    "#### General Information and Sample"
   ]
  },
  {
   "cell_type": "code",
   "execution_count": 10,
   "id": "38d88392",
   "metadata": {
    "ExecuteTime": {
     "end_time": "2023-08-15T09:32:06.654534Z",
     "start_time": "2023-08-15T09:32:06.641531Z"
    }
   },
   "outputs": [
    {
     "data": {
      "text/html": [
       "<div>\n",
       "<style scoped>\n",
       "    .dataframe tbody tr th:only-of-type {\n",
       "        vertical-align: middle;\n",
       "    }\n",
       "\n",
       "    .dataframe tbody tr th {\n",
       "        vertical-align: top;\n",
       "    }\n",
       "\n",
       "    .dataframe thead th {\n",
       "        text-align: right;\n",
       "    }\n",
       "</style>\n",
       "<table border=\"1\" class=\"dataframe\">\n",
       "  <thead>\n",
       "    <tr style=\"text-align: right;\">\n",
       "      <th></th>\n",
       "      <th>transactionId</th>\n",
       "      <th>visitorId</th>\n",
       "      <th>date</th>\n",
       "      <th>revenue</th>\n",
       "      <th>group</th>\n",
       "    </tr>\n",
       "  </thead>\n",
       "  <tbody>\n",
       "    <tr>\n",
       "      <th>0</th>\n",
       "      <td>3667963787</td>\n",
       "      <td>3312258926</td>\n",
       "      <td>2019-08-15</td>\n",
       "      <td>30.4</td>\n",
       "      <td>B</td>\n",
       "    </tr>\n",
       "    <tr>\n",
       "      <th>1</th>\n",
       "      <td>2804400009</td>\n",
       "      <td>3642806036</td>\n",
       "      <td>2019-08-15</td>\n",
       "      <td>15.2</td>\n",
       "      <td>B</td>\n",
       "    </tr>\n",
       "    <tr>\n",
       "      <th>2</th>\n",
       "      <td>2961555356</td>\n",
       "      <td>4069496402</td>\n",
       "      <td>2019-08-15</td>\n",
       "      <td>10.2</td>\n",
       "      <td>A</td>\n",
       "    </tr>\n",
       "    <tr>\n",
       "      <th>3</th>\n",
       "      <td>3797467345</td>\n",
       "      <td>1196621759</td>\n",
       "      <td>2019-08-15</td>\n",
       "      <td>155.1</td>\n",
       "      <td>B</td>\n",
       "    </tr>\n",
       "    <tr>\n",
       "      <th>4</th>\n",
       "      <td>2282983706</td>\n",
       "      <td>2322279887</td>\n",
       "      <td>2019-08-15</td>\n",
       "      <td>40.5</td>\n",
       "      <td>B</td>\n",
       "    </tr>\n",
       "    <tr>\n",
       "      <th>...</th>\n",
       "      <td>...</td>\n",
       "      <td>...</td>\n",
       "      <td>...</td>\n",
       "      <td>...</td>\n",
       "      <td>...</td>\n",
       "    </tr>\n",
       "    <tr>\n",
       "      <th>1192</th>\n",
       "      <td>2662137336</td>\n",
       "      <td>3733762160</td>\n",
       "      <td>2019-08-14</td>\n",
       "      <td>100.8</td>\n",
       "      <td>B</td>\n",
       "    </tr>\n",
       "    <tr>\n",
       "      <th>1193</th>\n",
       "      <td>2203539145</td>\n",
       "      <td>370388673</td>\n",
       "      <td>2019-08-14</td>\n",
       "      <td>50.1</td>\n",
       "      <td>A</td>\n",
       "    </tr>\n",
       "    <tr>\n",
       "      <th>1194</th>\n",
       "      <td>1807773912</td>\n",
       "      <td>573423106</td>\n",
       "      <td>2019-08-14</td>\n",
       "      <td>165.3</td>\n",
       "      <td>A</td>\n",
       "    </tr>\n",
       "    <tr>\n",
       "      <th>1195</th>\n",
       "      <td>1947021204</td>\n",
       "      <td>1614305549</td>\n",
       "      <td>2019-08-14</td>\n",
       "      <td>5.5</td>\n",
       "      <td>A</td>\n",
       "    </tr>\n",
       "    <tr>\n",
       "      <th>1196</th>\n",
       "      <td>3936777065</td>\n",
       "      <td>2108080724</td>\n",
       "      <td>2019-08-15</td>\n",
       "      <td>3120.1</td>\n",
       "      <td>B</td>\n",
       "    </tr>\n",
       "  </tbody>\n",
       "</table>\n",
       "<p>1197 rows × 5 columns</p>\n",
       "</div>"
      ],
      "text/plain": [
       "      transactionId   visitorId        date  revenue group\n",
       "0        3667963787  3312258926  2019-08-15     30.4     B\n",
       "1        2804400009  3642806036  2019-08-15     15.2     B\n",
       "2        2961555356  4069496402  2019-08-15     10.2     A\n",
       "3        3797467345  1196621759  2019-08-15    155.1     B\n",
       "4        2282983706  2322279887  2019-08-15     40.5     B\n",
       "...             ...         ...         ...      ...   ...\n",
       "1192     2662137336  3733762160  2019-08-14    100.8     B\n",
       "1193     2203539145   370388673  2019-08-14     50.1     A\n",
       "1194     1807773912   573423106  2019-08-14    165.3     A\n",
       "1195     1947021204  1614305549  2019-08-14      5.5     A\n",
       "1196     3936777065  2108080724  2019-08-15   3120.1     B\n",
       "\n",
       "[1197 rows x 5 columns]"
      ]
     },
     "execution_count": 10,
     "metadata": {},
     "output_type": "execute_result"
    }
   ],
   "source": [
    "order"
   ]
  },
  {
   "cell_type": "code",
   "execution_count": 11,
   "id": "0fc55152",
   "metadata": {
    "ExecuteTime": {
     "end_time": "2023-08-15T09:32:06.669537Z",
     "start_time": "2023-08-15T09:32:06.655535Z"
    }
   },
   "outputs": [
    {
     "name": "stdout",
     "output_type": "stream",
     "text": [
      "<class 'pandas.core.frame.DataFrame'>\n",
      "RangeIndex: 1197 entries, 0 to 1196\n",
      "Data columns (total 5 columns):\n",
      " #   Column         Non-Null Count  Dtype  \n",
      "---  ------         --------------  -----  \n",
      " 0   transactionId  1197 non-null   int64  \n",
      " 1   visitorId      1197 non-null   int64  \n",
      " 2   date           1197 non-null   object \n",
      " 3   revenue        1197 non-null   float64\n",
      " 4   group          1197 non-null   object \n",
      "dtypes: float64(1), int64(2), object(2)\n",
      "memory usage: 46.9+ KB\n"
     ]
    }
   ],
   "source": [
    "order.info()"
   ]
  },
  {
   "cell_type": "code",
   "execution_count": 12,
   "id": "72f198bc",
   "metadata": {
    "ExecuteTime": {
     "end_time": "2023-08-15T09:32:06.685542Z",
     "start_time": "2023-08-15T09:32:06.670537Z"
    }
   },
   "outputs": [
    {
     "data": {
      "text/plain": [
       "0"
      ]
     },
     "execution_count": 12,
     "metadata": {},
     "output_type": "execute_result"
    }
   ],
   "source": [
    "order.duplicated().sum()"
   ]
  },
  {
   "cell_type": "markdown",
   "id": "fa0d23b0",
   "metadata": {},
   "source": [
    "#### Fix Dataframe"
   ]
  },
  {
   "cell_type": "code",
   "execution_count": 13,
   "id": "6d628197",
   "metadata": {
    "ExecuteTime": {
     "end_time": "2023-08-15T09:32:06.701544Z",
     "start_time": "2023-08-15T09:32:06.686542Z"
    }
   },
   "outputs": [
    {
     "data": {
      "text/plain": [
       "0      2019-08-15\n",
       "1      2019-08-15\n",
       "2      2019-08-15\n",
       "3      2019-08-15\n",
       "4      2019-08-15\n",
       "          ...    \n",
       "1192   2019-08-14\n",
       "1193   2019-08-14\n",
       "1194   2019-08-14\n",
       "1195   2019-08-14\n",
       "1196   2019-08-15\n",
       "Name: date, Length: 1197, dtype: datetime64[ns]"
      ]
     },
     "execution_count": 13,
     "metadata": {},
     "output_type": "execute_result"
    }
   ],
   "source": [
    "order['date'] = order['date'].astype(\"datetime64\")\n",
    "order['date'] "
   ]
  },
  {
   "cell_type": "markdown",
   "id": "3b615576",
   "metadata": {},
   "source": [
    "Order dataframe is ready to analyse"
   ]
  },
  {
   "cell_type": "markdown",
   "id": "f64a72ee",
   "metadata": {},
   "source": [
    "### Visitor Dataframe"
   ]
  },
  {
   "cell_type": "markdown",
   "id": "aaa6b14f",
   "metadata": {},
   "source": [
    "Undestanding visitor dataframe"
   ]
  },
  {
   "cell_type": "markdown",
   "id": "6dd17182",
   "metadata": {},
   "source": [
    "#### General Information and Sample"
   ]
  },
  {
   "cell_type": "code",
   "execution_count": 14,
   "id": "1fa9649c",
   "metadata": {
    "ExecuteTime": {
     "end_time": "2023-08-15T09:32:06.717547Z",
     "start_time": "2023-08-15T09:32:06.702546Z"
    }
   },
   "outputs": [
    {
     "data": {
      "text/html": [
       "<div>\n",
       "<style scoped>\n",
       "    .dataframe tbody tr th:only-of-type {\n",
       "        vertical-align: middle;\n",
       "    }\n",
       "\n",
       "    .dataframe tbody tr th {\n",
       "        vertical-align: top;\n",
       "    }\n",
       "\n",
       "    .dataframe thead th {\n",
       "        text-align: right;\n",
       "    }\n",
       "</style>\n",
       "<table border=\"1\" class=\"dataframe\">\n",
       "  <thead>\n",
       "    <tr style=\"text-align: right;\">\n",
       "      <th></th>\n",
       "      <th>date</th>\n",
       "      <th>group</th>\n",
       "      <th>visits</th>\n",
       "    </tr>\n",
       "  </thead>\n",
       "  <tbody>\n",
       "    <tr>\n",
       "      <th>0</th>\n",
       "      <td>2019-08-01</td>\n",
       "      <td>A</td>\n",
       "      <td>719</td>\n",
       "    </tr>\n",
       "    <tr>\n",
       "      <th>1</th>\n",
       "      <td>2019-08-02</td>\n",
       "      <td>A</td>\n",
       "      <td>619</td>\n",
       "    </tr>\n",
       "    <tr>\n",
       "      <th>2</th>\n",
       "      <td>2019-08-03</td>\n",
       "      <td>A</td>\n",
       "      <td>507</td>\n",
       "    </tr>\n",
       "    <tr>\n",
       "      <th>3</th>\n",
       "      <td>2019-08-04</td>\n",
       "      <td>A</td>\n",
       "      <td>717</td>\n",
       "    </tr>\n",
       "    <tr>\n",
       "      <th>4</th>\n",
       "      <td>2019-08-05</td>\n",
       "      <td>A</td>\n",
       "      <td>756</td>\n",
       "    </tr>\n",
       "    <tr>\n",
       "      <th>...</th>\n",
       "      <td>...</td>\n",
       "      <td>...</td>\n",
       "      <td>...</td>\n",
       "    </tr>\n",
       "    <tr>\n",
       "      <th>57</th>\n",
       "      <td>2019-08-27</td>\n",
       "      <td>B</td>\n",
       "      <td>720</td>\n",
       "    </tr>\n",
       "    <tr>\n",
       "      <th>58</th>\n",
       "      <td>2019-08-28</td>\n",
       "      <td>B</td>\n",
       "      <td>654</td>\n",
       "    </tr>\n",
       "    <tr>\n",
       "      <th>59</th>\n",
       "      <td>2019-08-29</td>\n",
       "      <td>B</td>\n",
       "      <td>531</td>\n",
       "    </tr>\n",
       "    <tr>\n",
       "      <th>60</th>\n",
       "      <td>2019-08-30</td>\n",
       "      <td>B</td>\n",
       "      <td>490</td>\n",
       "    </tr>\n",
       "    <tr>\n",
       "      <th>61</th>\n",
       "      <td>2019-08-31</td>\n",
       "      <td>B</td>\n",
       "      <td>718</td>\n",
       "    </tr>\n",
       "  </tbody>\n",
       "</table>\n",
       "<p>62 rows × 3 columns</p>\n",
       "</div>"
      ],
      "text/plain": [
       "          date group  visits\n",
       "0   2019-08-01     A     719\n",
       "1   2019-08-02     A     619\n",
       "2   2019-08-03     A     507\n",
       "3   2019-08-04     A     717\n",
       "4   2019-08-05     A     756\n",
       "..         ...   ...     ...\n",
       "57  2019-08-27     B     720\n",
       "58  2019-08-28     B     654\n",
       "59  2019-08-29     B     531\n",
       "60  2019-08-30     B     490\n",
       "61  2019-08-31     B     718\n",
       "\n",
       "[62 rows x 3 columns]"
      ]
     },
     "execution_count": 14,
     "metadata": {},
     "output_type": "execute_result"
    }
   ],
   "source": [
    "visitor"
   ]
  },
  {
   "cell_type": "code",
   "execution_count": 15,
   "id": "619fdf8e",
   "metadata": {
    "ExecuteTime": {
     "end_time": "2023-08-15T09:32:06.733552Z",
     "start_time": "2023-08-15T09:32:06.718548Z"
    }
   },
   "outputs": [
    {
     "name": "stdout",
     "output_type": "stream",
     "text": [
      "<class 'pandas.core.frame.DataFrame'>\n",
      "RangeIndex: 62 entries, 0 to 61\n",
      "Data columns (total 3 columns):\n",
      " #   Column  Non-Null Count  Dtype \n",
      "---  ------  --------------  ----- \n",
      " 0   date    62 non-null     object\n",
      " 1   group   62 non-null     object\n",
      " 2   visits  62 non-null     int64 \n",
      "dtypes: int64(1), object(2)\n",
      "memory usage: 1.6+ KB\n"
     ]
    }
   ],
   "source": [
    "visitor.info()"
   ]
  },
  {
   "cell_type": "code",
   "execution_count": 16,
   "id": "0d3a458a",
   "metadata": {
    "ExecuteTime": {
     "end_time": "2023-08-15T09:32:06.749058Z",
     "start_time": "2023-08-15T09:32:06.734552Z"
    }
   },
   "outputs": [
    {
     "data": {
      "text/plain": [
       "0"
      ]
     },
     "execution_count": 16,
     "metadata": {},
     "output_type": "execute_result"
    }
   ],
   "source": [
    "visitor.duplicated().sum()"
   ]
  },
  {
   "cell_type": "markdown",
   "id": "b05cbfdb",
   "metadata": {},
   "source": [
    "#### Fix Dataframe"
   ]
  },
  {
   "cell_type": "code",
   "execution_count": 17,
   "id": "4c71ebb7",
   "metadata": {
    "ExecuteTime": {
     "end_time": "2023-08-15T09:32:06.765061Z",
     "start_time": "2023-08-15T09:32:06.750059Z"
    }
   },
   "outputs": [
    {
     "data": {
      "text/plain": [
       "0    2019-08-01\n",
       "1    2019-08-02\n",
       "2    2019-08-03\n",
       "3    2019-08-04\n",
       "4    2019-08-05\n",
       "        ...    \n",
       "57   2019-08-27\n",
       "58   2019-08-28\n",
       "59   2019-08-29\n",
       "60   2019-08-30\n",
       "61   2019-08-31\n",
       "Name: date, Length: 62, dtype: datetime64[ns]"
      ]
     },
     "execution_count": 17,
     "metadata": {},
     "output_type": "execute_result"
    }
   ],
   "source": [
    "visitor['date'] = visitor['date'].astype(\"datetime64\")\n",
    "visitor['date'] "
   ]
  },
  {
   "cell_type": "markdown",
   "id": "1737c1ce",
   "metadata": {},
   "source": [
    "Visitor dataframe is ready to analyse"
   ]
  },
  {
   "cell_type": "markdown",
   "id": "de39a623",
   "metadata": {},
   "source": [
    "## Stability of Cumulative Metrics"
   ]
  },
  {
   "cell_type": "markdown",
   "id": "07b30641",
   "metadata": {},
   "source": [
    "### Data Preparing"
   ]
  },
  {
   "cell_type": "code",
   "execution_count": 18,
   "id": "0b7a52b4",
   "metadata": {
    "ExecuteTime": {
     "end_time": "2023-08-15T09:32:06.876591Z",
     "start_time": "2023-08-15T09:32:06.766062Z"
    }
   },
   "outputs": [
    {
     "data": {
      "text/html": [
       "<div>\n",
       "<style scoped>\n",
       "    .dataframe tbody tr th:only-of-type {\n",
       "        vertical-align: middle;\n",
       "    }\n",
       "\n",
       "    .dataframe tbody tr th {\n",
       "        vertical-align: top;\n",
       "    }\n",
       "\n",
       "    .dataframe thead th {\n",
       "        text-align: right;\n",
       "    }\n",
       "</style>\n",
       "<table border=\"1\" class=\"dataframe\">\n",
       "  <thead>\n",
       "    <tr style=\"text-align: right;\">\n",
       "      <th></th>\n",
       "      <th>date</th>\n",
       "      <th>group</th>\n",
       "      <th>transactionId</th>\n",
       "      <th>visitorId</th>\n",
       "      <th>revenue</th>\n",
       "    </tr>\n",
       "  </thead>\n",
       "  <tbody>\n",
       "    <tr>\n",
       "      <th>55</th>\n",
       "      <td>2019-08-01</td>\n",
       "      <td>A</td>\n",
       "      <td>24</td>\n",
       "      <td>20</td>\n",
       "      <td>2356.8</td>\n",
       "    </tr>\n",
       "    <tr>\n",
       "      <th>66</th>\n",
       "      <td>2019-08-01</td>\n",
       "      <td>B</td>\n",
       "      <td>21</td>\n",
       "      <td>20</td>\n",
       "      <td>1620.0</td>\n",
       "    </tr>\n",
       "    <tr>\n",
       "      <th>175</th>\n",
       "      <td>2019-08-02</td>\n",
       "      <td>A</td>\n",
       "      <td>44</td>\n",
       "      <td>38</td>\n",
       "      <td>3860.3</td>\n",
       "    </tr>\n",
       "    <tr>\n",
       "      <th>173</th>\n",
       "      <td>2019-08-02</td>\n",
       "      <td>B</td>\n",
       "      <td>45</td>\n",
       "      <td>43</td>\n",
       "      <td>4243.8</td>\n",
       "    </tr>\n",
       "    <tr>\n",
       "      <th>291</th>\n",
       "      <td>2019-08-03</td>\n",
       "      <td>A</td>\n",
       "      <td>68</td>\n",
       "      <td>62</td>\n",
       "      <td>5675.5</td>\n",
       "    </tr>\n",
       "    <tr>\n",
       "      <th>...</th>\n",
       "      <td>...</td>\n",
       "      <td>...</td>\n",
       "      <td>...</td>\n",
       "      <td>...</td>\n",
       "      <td>...</td>\n",
       "    </tr>\n",
       "    <tr>\n",
       "      <th>496</th>\n",
       "      <td>2019-08-29</td>\n",
       "      <td>B</td>\n",
       "      <td>596</td>\n",
       "      <td>544</td>\n",
       "      <td>87343.0</td>\n",
       "    </tr>\n",
       "    <tr>\n",
       "      <th>730</th>\n",
       "      <td>2019-08-30</td>\n",
       "      <td>A</td>\n",
       "      <td>545</td>\n",
       "      <td>493</td>\n",
       "      <td>63563.5</td>\n",
       "    </tr>\n",
       "    <tr>\n",
       "      <th>690</th>\n",
       "      <td>2019-08-30</td>\n",
       "      <td>B</td>\n",
       "      <td>620</td>\n",
       "      <td>567</td>\n",
       "      <td>90736.3</td>\n",
       "    </tr>\n",
       "    <tr>\n",
       "      <th>958</th>\n",
       "      <td>2019-08-31</td>\n",
       "      <td>A</td>\n",
       "      <td>557</td>\n",
       "      <td>503</td>\n",
       "      <td>64554.9</td>\n",
       "    </tr>\n",
       "    <tr>\n",
       "      <th>930</th>\n",
       "      <td>2019-08-31</td>\n",
       "      <td>B</td>\n",
       "      <td>640</td>\n",
       "      <td>586</td>\n",
       "      <td>92840.6</td>\n",
       "    </tr>\n",
       "  </tbody>\n",
       "</table>\n",
       "<p>62 rows × 5 columns</p>\n",
       "</div>"
      ],
      "text/plain": [
       "          date group  transactionId  visitorId  revenue\n",
       "55  2019-08-01     A             24         20   2356.8\n",
       "66  2019-08-01     B             21         20   1620.0\n",
       "175 2019-08-02     A             44         38   3860.3\n",
       "173 2019-08-02     B             45         43   4243.8\n",
       "291 2019-08-03     A             68         62   5675.5\n",
       "..         ...   ...            ...        ...      ...\n",
       "496 2019-08-29     B            596        544  87343.0\n",
       "730 2019-08-30     A            545        493  63563.5\n",
       "690 2019-08-30     B            620        567  90736.3\n",
       "958 2019-08-31     A            557        503  64554.9\n",
       "930 2019-08-31     B            640        586  92840.6\n",
       "\n",
       "[62 rows x 5 columns]"
      ]
     },
     "execution_count": 18,
     "metadata": {},
     "output_type": "execute_result"
    }
   ],
   "source": [
    "datesGroups = order[['date','group']].drop_duplicates()\n",
    "ordersAggregated = datesGroups.apply(lambda x: order[np.logical_and(order['date'] <= x['date'], order['group'] == x['group'])].agg({'date' : 'max', 'group' : 'max', 'transactionId' :'nunique', 'visitorId' : 'nunique', 'revenue' : 'sum'}), axis=1).sort_values(by=['date','group'])\n",
    "ordersAggregated"
   ]
  },
  {
   "cell_type": "code",
   "execution_count": 19,
   "id": "a75530e2",
   "metadata": {
    "ExecuteTime": {
     "end_time": "2023-08-15T09:32:06.971118Z",
     "start_time": "2023-08-15T09:32:06.877591Z"
    }
   },
   "outputs": [
    {
     "data": {
      "text/html": [
       "<div>\n",
       "<style scoped>\n",
       "    .dataframe tbody tr th:only-of-type {\n",
       "        vertical-align: middle;\n",
       "    }\n",
       "\n",
       "    .dataframe tbody tr th {\n",
       "        vertical-align: top;\n",
       "    }\n",
       "\n",
       "    .dataframe thead th {\n",
       "        text-align: right;\n",
       "    }\n",
       "</style>\n",
       "<table border=\"1\" class=\"dataframe\">\n",
       "  <thead>\n",
       "    <tr style=\"text-align: right;\">\n",
       "      <th></th>\n",
       "      <th>date</th>\n",
       "      <th>group</th>\n",
       "      <th>visits</th>\n",
       "    </tr>\n",
       "  </thead>\n",
       "  <tbody>\n",
       "    <tr>\n",
       "      <th>55</th>\n",
       "      <td>2019-08-01</td>\n",
       "      <td>A</td>\n",
       "      <td>719</td>\n",
       "    </tr>\n",
       "    <tr>\n",
       "      <th>66</th>\n",
       "      <td>2019-08-01</td>\n",
       "      <td>B</td>\n",
       "      <td>713</td>\n",
       "    </tr>\n",
       "    <tr>\n",
       "      <th>175</th>\n",
       "      <td>2019-08-02</td>\n",
       "      <td>A</td>\n",
       "      <td>1338</td>\n",
       "    </tr>\n",
       "    <tr>\n",
       "      <th>173</th>\n",
       "      <td>2019-08-02</td>\n",
       "      <td>B</td>\n",
       "      <td>1294</td>\n",
       "    </tr>\n",
       "    <tr>\n",
       "      <th>291</th>\n",
       "      <td>2019-08-03</td>\n",
       "      <td>A</td>\n",
       "      <td>1845</td>\n",
       "    </tr>\n",
       "    <tr>\n",
       "      <th>...</th>\n",
       "      <td>...</td>\n",
       "      <td>...</td>\n",
       "      <td>...</td>\n",
       "    </tr>\n",
       "    <tr>\n",
       "      <th>496</th>\n",
       "      <td>2019-08-29</td>\n",
       "      <td>B</td>\n",
       "      <td>17708</td>\n",
       "    </tr>\n",
       "    <tr>\n",
       "      <th>730</th>\n",
       "      <td>2019-08-30</td>\n",
       "      <td>A</td>\n",
       "      <td>18037</td>\n",
       "    </tr>\n",
       "    <tr>\n",
       "      <th>690</th>\n",
       "      <td>2019-08-30</td>\n",
       "      <td>B</td>\n",
       "      <td>18198</td>\n",
       "    </tr>\n",
       "    <tr>\n",
       "      <th>958</th>\n",
       "      <td>2019-08-31</td>\n",
       "      <td>A</td>\n",
       "      <td>18736</td>\n",
       "    </tr>\n",
       "    <tr>\n",
       "      <th>930</th>\n",
       "      <td>2019-08-31</td>\n",
       "      <td>B</td>\n",
       "      <td>18916</td>\n",
       "    </tr>\n",
       "  </tbody>\n",
       "</table>\n",
       "<p>62 rows × 3 columns</p>\n",
       "</div>"
      ],
      "text/plain": [
       "          date group  visits\n",
       "55  2019-08-01     A     719\n",
       "66  2019-08-01     B     713\n",
       "175 2019-08-02     A    1338\n",
       "173 2019-08-02     B    1294\n",
       "291 2019-08-03     A    1845\n",
       "..         ...   ...     ...\n",
       "496 2019-08-29     B   17708\n",
       "730 2019-08-30     A   18037\n",
       "690 2019-08-30     B   18198\n",
       "958 2019-08-31     A   18736\n",
       "930 2019-08-31     B   18916\n",
       "\n",
       "[62 rows x 3 columns]"
      ]
     },
     "execution_count": 19,
     "metadata": {},
     "output_type": "execute_result"
    }
   ],
   "source": [
    "visitorsAggregated = datesGroups.apply(\n",
    "    lambda x: visitor[np.logical_and(visitor['date'] <= x['date'], visitor['group'] == x['group'])]\n",
    "    .agg({'date' : 'max', 'group' : 'max', 'visits' : 'sum'}), axis=1).sort_values(by=['date','group'])\n",
    "visitorsAggregated"
   ]
  },
  {
   "cell_type": "code",
   "execution_count": 20,
   "id": "4173b8a7",
   "metadata": {
    "ExecuteTime": {
     "end_time": "2023-08-15T09:32:06.987122Z",
     "start_time": "2023-08-15T09:32:06.972119Z"
    }
   },
   "outputs": [
    {
     "data": {
      "text/html": [
       "<div>\n",
       "<style scoped>\n",
       "    .dataframe tbody tr th:only-of-type {\n",
       "        vertical-align: middle;\n",
       "    }\n",
       "\n",
       "    .dataframe tbody tr th {\n",
       "        vertical-align: top;\n",
       "    }\n",
       "\n",
       "    .dataframe thead th {\n",
       "        text-align: right;\n",
       "    }\n",
       "</style>\n",
       "<table border=\"1\" class=\"dataframe\">\n",
       "  <thead>\n",
       "    <tr style=\"text-align: right;\">\n",
       "      <th></th>\n",
       "      <th>date</th>\n",
       "      <th>group</th>\n",
       "      <th>orders</th>\n",
       "      <th>buyers</th>\n",
       "      <th>revenue</th>\n",
       "      <th>visitors</th>\n",
       "    </tr>\n",
       "  </thead>\n",
       "  <tbody>\n",
       "    <tr>\n",
       "      <th>0</th>\n",
       "      <td>2019-08-01</td>\n",
       "      <td>A</td>\n",
       "      <td>24</td>\n",
       "      <td>20</td>\n",
       "      <td>2356.8</td>\n",
       "      <td>719</td>\n",
       "    </tr>\n",
       "    <tr>\n",
       "      <th>1</th>\n",
       "      <td>2019-08-01</td>\n",
       "      <td>B</td>\n",
       "      <td>21</td>\n",
       "      <td>20</td>\n",
       "      <td>1620.0</td>\n",
       "      <td>713</td>\n",
       "    </tr>\n",
       "    <tr>\n",
       "      <th>2</th>\n",
       "      <td>2019-08-02</td>\n",
       "      <td>A</td>\n",
       "      <td>44</td>\n",
       "      <td>38</td>\n",
       "      <td>3860.3</td>\n",
       "      <td>1338</td>\n",
       "    </tr>\n",
       "    <tr>\n",
       "      <th>3</th>\n",
       "      <td>2019-08-02</td>\n",
       "      <td>B</td>\n",
       "      <td>45</td>\n",
       "      <td>43</td>\n",
       "      <td>4243.8</td>\n",
       "      <td>1294</td>\n",
       "    </tr>\n",
       "    <tr>\n",
       "      <th>4</th>\n",
       "      <td>2019-08-03</td>\n",
       "      <td>A</td>\n",
       "      <td>68</td>\n",
       "      <td>62</td>\n",
       "      <td>5675.5</td>\n",
       "      <td>1845</td>\n",
       "    </tr>\n",
       "    <tr>\n",
       "      <th>5</th>\n",
       "      <td>2019-08-03</td>\n",
       "      <td>B</td>\n",
       "      <td>61</td>\n",
       "      <td>59</td>\n",
       "      <td>6050.6</td>\n",
       "      <td>1803</td>\n",
       "    </tr>\n",
       "  </tbody>\n",
       "</table>\n",
       "</div>"
      ],
      "text/plain": [
       "        date group  orders  buyers  revenue  visitors\n",
       "0 2019-08-01     A      24      20   2356.8       719\n",
       "1 2019-08-01     B      21      20   1620.0       713\n",
       "2 2019-08-02     A      44      38   3860.3      1338\n",
       "3 2019-08-02     B      45      43   4243.8      1294\n",
       "4 2019-08-03     A      68      62   5675.5      1845\n",
       "5 2019-08-03     B      61      59   6050.6      1803"
      ]
     },
     "execution_count": 20,
     "metadata": {},
     "output_type": "execute_result"
    }
   ],
   "source": [
    "# merging the two tables into one and giving its columns descriptive names\n",
    "cumulative_data = ordersAggregated.merge(visitorsAggregated, left_on=['date', 'group'], right_on=['date', 'group'])\n",
    "cumulative_data.columns = ['date', 'group', 'orders', 'buyers', 'revenue', 'visitors']\n",
    "cumulative_data.head(6)"
   ]
  },
  {
   "cell_type": "markdown",
   "id": "3eda5c57",
   "metadata": {},
   "source": [
    "### Cumulative Revenue by Group"
   ]
  },
  {
   "cell_type": "code",
   "execution_count": 21,
   "id": "2b3b9b76",
   "metadata": {
    "ExecuteTime": {
     "end_time": "2023-08-15T09:32:07.224763Z",
     "start_time": "2023-08-15T09:32:06.988122Z"
    }
   },
   "outputs": [
    {
     "data": {
      "image/png": "[encoded data removed]",
      "text/plain": [
       "<Figure size 640x480 with 1 Axes>"
      ]
     },
     "metadata": {},
     "output_type": "display_data"
    }
   ],
   "source": [
    "# DataFrame with cumulative orders and cumulative revenue by day, group A\n",
    "cum_revenueA = cumulative_data[cumulative_data['group']=='A'][['date','revenue', 'orders']]\n",
    "\n",
    "# DataFrame with cumulative orders and cumulative revenue by day, group B\n",
    "cum_revenueB = cumulative_data[cumulative_data['group']=='B'][['date','revenue', 'orders']]\n",
    "\n",
    "# Plotting the group A revenue graph \n",
    "plt.plot(cum_revenueA['date'], cum_revenueA['revenue'], label='A')\n",
    "\n",
    "# Plotting the group B revenue graph \n",
    "plt.plot(cum_revenueB['date'], cum_revenueB['revenue'], label='B')\n",
    "\n",
    "plt.xlabel('Date')\n",
    "plt.xticks(rotation=30)\n",
    "plt.ylabel('Revenue')\n",
    "plt.title('Date per Revenue')\n",
    "plt.legend() \n",
    "plt.show()\n"
   ]
  },
  {
   "cell_type": "markdown",
   "id": "9b1cbf98",
   "metadata": {},
   "source": [
    "**Explanation**\n",
    "\n",
    "Based on the graph, Group B has consistently generated more revenue than Group A throughout the entire testing period. However, both revenue is rising steadily. That's a good sign. Both groups see spikes in revenue at certain points. This may imply either a surge in the number of orders or the presence of very expensive orders in the sample."
   ]
  },
  {
   "cell_type": "markdown",
   "id": "22f2b57b",
   "metadata": {},
   "source": [
    " "
   ]
  },
  {
   "cell_type": "markdown",
   "id": "2d3f9715",
   "metadata": {},
   "source": [
    "### Cumulative Average Order Size by Group"
   ]
  },
  {
   "cell_type": "code",
   "execution_count": 22,
   "id": "c6bd8a82",
   "metadata": {
    "ExecuteTime": {
     "end_time": "2023-08-15T09:32:07.383448Z",
     "start_time": "2023-08-15T09:32:07.225764Z"
    }
   },
   "outputs": [
    {
     "data": {
      "image/png": "[encoded data removed]",
      "text/plain": [
       "<Figure size 640x480 with 1 Axes>"
      ]
     },
     "metadata": {},
     "output_type": "display_data"
    }
   ],
   "source": [
    "plt.plot(cum_revenueA['date'], cum_revenueA['revenue']/cum_revenueA['orders'], label='A')\n",
    "plt.plot(cum_revenueB['date'], cum_revenueB['revenue']/cum_revenueB['orders'], label='B')\n",
    "\n",
    "plt.xlabel('Date')\n",
    "plt.xticks(rotation=30)\n",
    "plt.ylabel('Average Order Size')\n",
    "plt.title('Date per Average Order Size')\n",
    "plt.legend() \n",
    "plt.show()"
   ]
  },
  {
   "cell_type": "markdown",
   "id": "235b51c9",
   "metadata": {},
   "source": [
    "**Explanation**\n",
    "\n",
    "From the graph, both groups have steep up and falling down drastically. However, group A started more stable around 110 at the end of graph while group B drastically rising up to 160 from 120. Maybe group A has same revenue per order while group B has increasing the revenue but decreasing or same number of orders.   "
   ]
  },
  {
   "cell_type": "markdown",
   "id": "b1bbeead",
   "metadata": {},
   "source": [
    "### Relative Difference Cumulative Average Order Size"
   ]
  },
  {
   "cell_type": "markdown",
   "id": "edb9b71a",
   "metadata": {},
   "source": [
    "Graph the relative difference in cumulative average order size for group B compared with\n",
    "group A. Make conclusions and conjectures"
   ]
  },
  {
   "cell_type": "code",
   "execution_count": 23,
   "id": "77338648",
   "metadata": {
    "ExecuteTime": {
     "end_time": "2023-08-15T09:32:07.399451Z",
     "start_time": "2023-08-15T09:32:07.384448Z"
    }
   },
   "outputs": [
    {
     "data": {
      "text/html": [
       "<div>\n",
       "<style scoped>\n",
       "    .dataframe tbody tr th:only-of-type {\n",
       "        vertical-align: middle;\n",
       "    }\n",
       "\n",
       "    .dataframe tbody tr th {\n",
       "        vertical-align: top;\n",
       "    }\n",
       "\n",
       "    .dataframe thead th {\n",
       "        text-align: right;\n",
       "    }\n",
       "</style>\n",
       "<table border=\"1\" class=\"dataframe\">\n",
       "  <thead>\n",
       "    <tr style=\"text-align: right;\">\n",
       "      <th></th>\n",
       "      <th>date</th>\n",
       "      <th>revenueA</th>\n",
       "      <th>ordersA</th>\n",
       "      <th>revenueB</th>\n",
       "      <th>ordersB</th>\n",
       "    </tr>\n",
       "  </thead>\n",
       "  <tbody>\n",
       "    <tr>\n",
       "      <th>0</th>\n",
       "      <td>2019-08-01</td>\n",
       "      <td>2356.8</td>\n",
       "      <td>24</td>\n",
       "      <td>1620.0</td>\n",
       "      <td>21</td>\n",
       "    </tr>\n",
       "    <tr>\n",
       "      <th>1</th>\n",
       "      <td>2019-08-02</td>\n",
       "      <td>3860.3</td>\n",
       "      <td>44</td>\n",
       "      <td>4243.8</td>\n",
       "      <td>45</td>\n",
       "    </tr>\n",
       "    <tr>\n",
       "      <th>2</th>\n",
       "      <td>2019-08-03</td>\n",
       "      <td>5675.5</td>\n",
       "      <td>68</td>\n",
       "      <td>6050.6</td>\n",
       "      <td>61</td>\n",
       "    </tr>\n",
       "    <tr>\n",
       "      <th>3</th>\n",
       "      <td>2019-08-04</td>\n",
       "      <td>6822.1</td>\n",
       "      <td>84</td>\n",
       "      <td>7767.9</td>\n",
       "      <td>78</td>\n",
       "    </tr>\n",
       "    <tr>\n",
       "      <th>4</th>\n",
       "      <td>2019-08-05</td>\n",
       "      <td>8810.2</td>\n",
       "      <td>109</td>\n",
       "      <td>9262.9</td>\n",
       "      <td>101</td>\n",
       "    </tr>\n",
       "  </tbody>\n",
       "</table>\n",
       "</div>"
      ],
      "text/plain": [
       "        date  revenueA  ordersA  revenueB  ordersB\n",
       "0 2019-08-01    2356.8       24    1620.0       21\n",
       "1 2019-08-02    3860.3       44    4243.8       45\n",
       "2 2019-08-03    5675.5       68    6050.6       61\n",
       "3 2019-08-04    6822.1       84    7767.9       78\n",
       "4 2019-08-05    8810.2      109    9262.9      101"
      ]
     },
     "execution_count": 23,
     "metadata": {},
     "output_type": "execute_result"
    }
   ],
   "source": [
    "merge_cum_revenue = cum_revenueA.merge(cum_revenueB, left_on='date', right_on='date', how='left', suffixes=['A', 'B'])\n",
    "merge_cum_revenue.head()"
   ]
  },
  {
   "cell_type": "code",
   "execution_count": 24,
   "id": "3b2bf35b",
   "metadata": {
    "ExecuteTime": {
     "end_time": "2023-08-15T09:32:07.415454Z",
     "start_time": "2023-08-15T09:32:07.401454Z"
    }
   },
   "outputs": [
    {
     "data": {
      "text/html": [
       "<div>\n",
       "<style scoped>\n",
       "    .dataframe tbody tr th:only-of-type {\n",
       "        vertical-align: middle;\n",
       "    }\n",
       "\n",
       "    .dataframe tbody tr th {\n",
       "        vertical-align: top;\n",
       "    }\n",
       "\n",
       "    .dataframe thead th {\n",
       "        text-align: right;\n",
       "    }\n",
       "</style>\n",
       "<table border=\"1\" class=\"dataframe\">\n",
       "  <thead>\n",
       "    <tr style=\"text-align: right;\">\n",
       "      <th></th>\n",
       "      <th>date</th>\n",
       "      <th>revenueA</th>\n",
       "      <th>ordersA</th>\n",
       "      <th>revenueB</th>\n",
       "      <th>ordersB</th>\n",
       "      <th>relative_dif_B_A</th>\n",
       "    </tr>\n",
       "  </thead>\n",
       "  <tbody>\n",
       "    <tr>\n",
       "      <th>0</th>\n",
       "      <td>2019-08-01</td>\n",
       "      <td>2356.8</td>\n",
       "      <td>24</td>\n",
       "      <td>1620.0</td>\n",
       "      <td>21</td>\n",
       "      <td>-0.214431</td>\n",
       "    </tr>\n",
       "    <tr>\n",
       "      <th>1</th>\n",
       "      <td>2019-08-02</td>\n",
       "      <td>3860.3</td>\n",
       "      <td>44</td>\n",
       "      <td>4243.8</td>\n",
       "      <td>45</td>\n",
       "      <td>0.074915</td>\n",
       "    </tr>\n",
       "    <tr>\n",
       "      <th>2</th>\n",
       "      <td>2019-08-03</td>\n",
       "      <td>5675.5</td>\n",
       "      <td>68</td>\n",
       "      <td>6050.6</td>\n",
       "      <td>61</td>\n",
       "      <td>0.188429</td>\n",
       "    </tr>\n",
       "    <tr>\n",
       "      <th>3</th>\n",
       "      <td>2019-08-04</td>\n",
       "      <td>6822.1</td>\n",
       "      <td>84</td>\n",
       "      <td>7767.9</td>\n",
       "      <td>78</td>\n",
       "      <td>0.226225</td>\n",
       "    </tr>\n",
       "    <tr>\n",
       "      <th>4</th>\n",
       "      <td>2019-08-05</td>\n",
       "      <td>8810.2</td>\n",
       "      <td>109</td>\n",
       "      <td>9262.9</td>\n",
       "      <td>101</td>\n",
       "      <td>0.134662</td>\n",
       "    </tr>\n",
       "    <tr>\n",
       "      <th>5</th>\n",
       "      <td>2019-08-06</td>\n",
       "      <td>9600.0</td>\n",
       "      <td>127</td>\n",
       "      <td>13069.3</td>\n",
       "      <td>129</td>\n",
       "      <td>0.340279</td>\n",
       "    </tr>\n",
       "    <tr>\n",
       "      <th>6</th>\n",
       "      <td>2019-08-07</td>\n",
       "      <td>11842.9</td>\n",
       "      <td>145</td>\n",
       "      <td>16600.8</td>\n",
       "      <td>153</td>\n",
       "      <td>0.328457</td>\n",
       "    </tr>\n",
       "    <tr>\n",
       "      <th>7</th>\n",
       "      <td>2019-08-08</td>\n",
       "      <td>13373.3</td>\n",
       "      <td>161</td>\n",
       "      <td>20088.6</td>\n",
       "      <td>180</td>\n",
       "      <td>0.343583</td>\n",
       "    </tr>\n",
       "    <tr>\n",
       "      <th>8</th>\n",
       "      <td>2019-08-09</td>\n",
       "      <td>16320.4</td>\n",
       "      <td>177</td>\n",
       "      <td>22646.7</td>\n",
       "      <td>205</td>\n",
       "      <td>0.198101</td>\n",
       "    </tr>\n",
       "    <tr>\n",
       "      <th>9</th>\n",
       "      <td>2019-08-10</td>\n",
       "      <td>19608.6</td>\n",
       "      <td>193</td>\n",
       "      <td>24367.1</td>\n",
       "      <td>228</td>\n",
       "      <td>0.051913</td>\n",
       "    </tr>\n",
       "    <tr>\n",
       "      <th>10</th>\n",
       "      <td>2019-08-11</td>\n",
       "      <td>20838.3</td>\n",
       "      <td>206</td>\n",
       "      <td>25228.3</td>\n",
       "      <td>241</td>\n",
       "      <td>0.034846</td>\n",
       "    </tr>\n",
       "    <tr>\n",
       "      <th>11</th>\n",
       "      <td>2019-08-12</td>\n",
       "      <td>24749.1</td>\n",
       "      <td>230</td>\n",
       "      <td>27474.0</td>\n",
       "      <td>264</td>\n",
       "      <td>-0.032867</td>\n",
       "    </tr>\n",
       "    <tr>\n",
       "      <th>12</th>\n",
       "      <td>2019-08-13</td>\n",
       "      <td>28846.0</td>\n",
       "      <td>244</td>\n",
       "      <td>29384.0</td>\n",
       "      <td>285</td>\n",
       "      <td>-0.127892</td>\n",
       "    </tr>\n",
       "    <tr>\n",
       "      <th>13</th>\n",
       "      <td>2019-08-14</td>\n",
       "      <td>29910.8</td>\n",
       "      <td>268</td>\n",
       "      <td>32095.7</td>\n",
       "      <td>308</td>\n",
       "      <td>-0.066310</td>\n",
       "    </tr>\n",
       "    <tr>\n",
       "      <th>14</th>\n",
       "      <td>2019-08-15</td>\n",
       "      <td>31319.0</td>\n",
       "      <td>283</td>\n",
       "      <td>37457.6</td>\n",
       "      <td>339</td>\n",
       "      <td>-0.001567</td>\n",
       "    </tr>\n",
       "    <tr>\n",
       "      <th>15</th>\n",
       "      <td>2019-08-16</td>\n",
       "      <td>32918.1</td>\n",
       "      <td>301</td>\n",
       "      <td>40155.3</td>\n",
       "      <td>359</td>\n",
       "      <td>0.022775</td>\n",
       "    </tr>\n",
       "    <tr>\n",
       "      <th>16</th>\n",
       "      <td>2019-08-17</td>\n",
       "      <td>33723.6</td>\n",
       "      <td>311</td>\n",
       "      <td>41436.8</td>\n",
       "      <td>373</td>\n",
       "      <td>0.024481</td>\n",
       "    </tr>\n",
       "    <tr>\n",
       "      <th>17</th>\n",
       "      <td>2019-08-18</td>\n",
       "      <td>34895.4</td>\n",
       "      <td>328</td>\n",
       "      <td>42481.7</td>\n",
       "      <td>382</td>\n",
       "      <td>0.045308</td>\n",
       "    </tr>\n",
       "    <tr>\n",
       "      <th>18</th>\n",
       "      <td>2019-08-19</td>\n",
       "      <td>37884.5</td>\n",
       "      <td>350</td>\n",
       "      <td>64546.6</td>\n",
       "      <td>403</td>\n",
       "      <td>0.479704</td>\n",
       "    </tr>\n",
       "    <tr>\n",
       "      <th>19</th>\n",
       "      <td>2019-08-20</td>\n",
       "      <td>39116.8</td>\n",
       "      <td>362</td>\n",
       "      <td>66871.2</td>\n",
       "      <td>423</td>\n",
       "      <td>0.462999</td>\n",
       "    </tr>\n",
       "    <tr>\n",
       "      <th>20</th>\n",
       "      <td>2019-08-21</td>\n",
       "      <td>41872.3</td>\n",
       "      <td>385</td>\n",
       "      <td>69427.1</td>\n",
       "      <td>437</td>\n",
       "      <td>0.460769</td>\n",
       "    </tr>\n",
       "    <tr>\n",
       "      <th>21</th>\n",
       "      <td>2019-08-22</td>\n",
       "      <td>43655.6</td>\n",
       "      <td>401</td>\n",
       "      <td>71987.9</td>\n",
       "      <td>462</td>\n",
       "      <td>0.431271</td>\n",
       "    </tr>\n",
       "    <tr>\n",
       "      <th>22</th>\n",
       "      <td>2019-08-23</td>\n",
       "      <td>45543.6</td>\n",
       "      <td>426</td>\n",
       "      <td>73787.4</td>\n",
       "      <td>477</td>\n",
       "      <td>0.446925</td>\n",
       "    </tr>\n",
       "    <tr>\n",
       "      <th>23</th>\n",
       "      <td>2019-08-24</td>\n",
       "      <td>47546.3</td>\n",
       "      <td>441</td>\n",
       "      <td>75314.6</td>\n",
       "      <td>493</td>\n",
       "      <td>0.416949</td>\n",
       "    </tr>\n",
       "    <tr>\n",
       "      <th>24</th>\n",
       "      <td>2019-08-25</td>\n",
       "      <td>48625.2</td>\n",
       "      <td>451</td>\n",
       "      <td>76941.1</td>\n",
       "      <td>507</td>\n",
       "      <td>0.407556</td>\n",
       "    </tr>\n",
       "    <tr>\n",
       "      <th>25</th>\n",
       "      <td>2019-08-26</td>\n",
       "      <td>51090.0</td>\n",
       "      <td>467</td>\n",
       "      <td>79841.5</td>\n",
       "      <td>532</td>\n",
       "      <td>0.371823</td>\n",
       "    </tr>\n",
       "    <tr>\n",
       "      <th>26</th>\n",
       "      <td>2019-08-27</td>\n",
       "      <td>55601.1</td>\n",
       "      <td>495</td>\n",
       "      <td>82161.3</td>\n",
       "      <td>548</td>\n",
       "      <td>0.334777</td>\n",
       "    </tr>\n",
       "    <tr>\n",
       "      <th>27</th>\n",
       "      <td>2019-08-28</td>\n",
       "      <td>57203.7</td>\n",
       "      <td>512</td>\n",
       "      <td>83719.3</td>\n",
       "      <td>576</td>\n",
       "      <td>0.300915</td>\n",
       "    </tr>\n",
       "    <tr>\n",
       "      <th>28</th>\n",
       "      <td>2019-08-29</td>\n",
       "      <td>62199.2</td>\n",
       "      <td>534</td>\n",
       "      <td>87343.0</td>\n",
       "      <td>596</td>\n",
       "      <td>0.258167</td>\n",
       "    </tr>\n",
       "    <tr>\n",
       "      <th>29</th>\n",
       "      <td>2019-08-30</td>\n",
       "      <td>63563.5</td>\n",
       "      <td>545</td>\n",
       "      <td>90736.3</td>\n",
       "      <td>620</td>\n",
       "      <td>0.254810</td>\n",
       "    </tr>\n",
       "    <tr>\n",
       "      <th>30</th>\n",
       "      <td>2019-08-31</td>\n",
       "      <td>64554.9</td>\n",
       "      <td>557</td>\n",
       "      <td>92840.6</td>\n",
       "      <td>640</td>\n",
       "      <td>0.251653</td>\n",
       "    </tr>\n",
       "  </tbody>\n",
       "</table>\n",
       "</div>"
      ],
      "text/plain": [
       "         date  revenueA  ordersA  revenueB  ordersB  relative_dif_B_A\n",
       "0  2019-08-01    2356.8       24    1620.0       21         -0.214431\n",
       "1  2019-08-02    3860.3       44    4243.8       45          0.074915\n",
       "2  2019-08-03    5675.5       68    6050.6       61          0.188429\n",
       "3  2019-08-04    6822.1       84    7767.9       78          0.226225\n",
       "4  2019-08-05    8810.2      109    9262.9      101          0.134662\n",
       "5  2019-08-06    9600.0      127   13069.3      129          0.340279\n",
       "6  2019-08-07   11842.9      145   16600.8      153          0.328457\n",
       "7  2019-08-08   13373.3      161   20088.6      180          0.343583\n",
       "8  2019-08-09   16320.4      177   22646.7      205          0.198101\n",
       "9  2019-08-10   19608.6      193   24367.1      228          0.051913\n",
       "10 2019-08-11   20838.3      206   25228.3      241          0.034846\n",
       "11 2019-08-12   24749.1      230   27474.0      264         -0.032867\n",
       "12 2019-08-13   28846.0      244   29384.0      285         -0.127892\n",
       "13 2019-08-14   29910.8      268   32095.7      308         -0.066310\n",
       "14 2019-08-15   31319.0      283   37457.6      339         -0.001567\n",
       "15 2019-08-16   32918.1      301   40155.3      359          0.022775\n",
       "16 2019-08-17   33723.6      311   41436.8      373          0.024481\n",
       "17 2019-08-18   34895.4      328   42481.7      382          0.045308\n",
       "18 2019-08-19   37884.5      350   64546.6      403          0.479704\n",
       "19 2019-08-20   39116.8      362   66871.2      423          0.462999\n",
       "20 2019-08-21   41872.3      385   69427.1      437          0.460769\n",
       "21 2019-08-22   43655.6      401   71987.9      462          0.431271\n",
       "22 2019-08-23   45543.6      426   73787.4      477          0.446925\n",
       "23 2019-08-24   47546.3      441   75314.6      493          0.416949\n",
       "24 2019-08-25   48625.2      451   76941.1      507          0.407556\n",
       "25 2019-08-26   51090.0      467   79841.5      532          0.371823\n",
       "26 2019-08-27   55601.1      495   82161.3      548          0.334777\n",
       "27 2019-08-28   57203.7      512   83719.3      576          0.300915\n",
       "28 2019-08-29   62199.2      534   87343.0      596          0.258167\n",
       "29 2019-08-30   63563.5      545   90736.3      620          0.254810\n",
       "30 2019-08-31   64554.9      557   92840.6      640          0.251653"
      ]
     },
     "execution_count": 24,
     "metadata": {},
     "output_type": "execute_result"
    }
   ],
   "source": [
    "relative_differenceB_A = (merge_cum_revenue['revenueB']/merge_cum_revenue['ordersB'])/(merge_cum_revenue['revenueA']/merge_cum_revenue['ordersA'])-1\n",
    "merge_cum_revenue['relative_dif_B_A'] = relative_differenceB_A\n",
    "merge_cum_revenue"
   ]
  },
  {
   "cell_type": "code",
   "execution_count": 25,
   "id": "d1bcc8c7",
   "metadata": {
    "ExecuteTime": {
     "end_time": "2023-08-15T09:32:07.588505Z",
     "start_time": "2023-08-15T09:32:07.417455Z"
    }
   },
   "outputs": [
    {
     "data": {
      "image/png": "[encoded data removed]",
      "text/plain": [
       "<Figure size 640x480 with 1 Axes>"
      ]
     },
     "metadata": {},
     "output_type": "display_data"
    }
   ],
   "source": [
    "# plotting a relative difference graph for the average purchase sizes\n",
    "plt.plot(merge_cum_revenue['date'],merge_cum_revenue['relative_dif_B_A'])\n",
    "\n",
    "# adding the X axis\n",
    "plt.axhline(y=0, color='black', linestyle='--') \n",
    "\n",
    "plt.xlabel('Date')\n",
    "plt.xticks(rotation=30)\n",
    "plt.ylabel('Relative Difference')\n",
    "plt.title('Relative Difference Graph for Average Purchase Sizes')\n",
    "plt.show()"
   ]
  },
  {
   "cell_type": "markdown",
   "id": "9b8c14f1",
   "metadata": {},
   "source": [
    "**Explanation**\n",
    "\n",
    "From the graph, the positive value indicate that average purchase size group B is higher while the negative indicate otherwise. Here, the graph can give the insight on how the two groups are performing relative to each other. From the graph, the group B is more effective compared to group A in a certain period of time, where the relative difference is around 20% to 50% differ. However, some certain period of time, group A is better than group B where the difference can be achieved around 10%."
   ]
  },
  {
   "cell_type": "markdown",
   "id": "732cc2b6",
   "metadata": {},
   "source": [
    "### Cumulative Conversion by Group"
   ]
  },
  {
   "cell_type": "markdown",
   "id": "7ed87ba5",
   "metadata": {},
   "source": [
    "Calculate each group's conversion rate as the ratio of orders to the number of visits for each day. Plot the daily conversion rates of the two groups and describe the difference. Draw conclusions and make conjectures"
   ]
  },
  {
   "cell_type": "code",
   "execution_count": 26,
   "id": "3d3c576d",
   "metadata": {
    "ExecuteTime": {
     "end_time": "2023-08-15T09:32:07.604509Z",
     "start_time": "2023-08-15T09:32:07.589505Z"
    }
   },
   "outputs": [
    {
     "data": {
      "text/html": [
       "<div>\n",
       "<style scoped>\n",
       "    .dataframe tbody tr th:only-of-type {\n",
       "        vertical-align: middle;\n",
       "    }\n",
       "\n",
       "    .dataframe tbody tr th {\n",
       "        vertical-align: top;\n",
       "    }\n",
       "\n",
       "    .dataframe thead th {\n",
       "        text-align: right;\n",
       "    }\n",
       "</style>\n",
       "<table border=\"1\" class=\"dataframe\">\n",
       "  <thead>\n",
       "    <tr style=\"text-align: right;\">\n",
       "      <th></th>\n",
       "      <th>date</th>\n",
       "      <th>group</th>\n",
       "      <th>orders</th>\n",
       "      <th>buyers</th>\n",
       "      <th>revenue</th>\n",
       "      <th>visitors</th>\n",
       "      <th>conversion</th>\n",
       "    </tr>\n",
       "  </thead>\n",
       "  <tbody>\n",
       "    <tr>\n",
       "      <th>0</th>\n",
       "      <td>2019-08-01</td>\n",
       "      <td>A</td>\n",
       "      <td>24</td>\n",
       "      <td>20</td>\n",
       "      <td>2356.8</td>\n",
       "      <td>719</td>\n",
       "      <td>0.033380</td>\n",
       "    </tr>\n",
       "    <tr>\n",
       "      <th>1</th>\n",
       "      <td>2019-08-01</td>\n",
       "      <td>B</td>\n",
       "      <td>21</td>\n",
       "      <td>20</td>\n",
       "      <td>1620.0</td>\n",
       "      <td>713</td>\n",
       "      <td>0.029453</td>\n",
       "    </tr>\n",
       "    <tr>\n",
       "      <th>2</th>\n",
       "      <td>2019-08-02</td>\n",
       "      <td>A</td>\n",
       "      <td>44</td>\n",
       "      <td>38</td>\n",
       "      <td>3860.3</td>\n",
       "      <td>1338</td>\n",
       "      <td>0.032885</td>\n",
       "    </tr>\n",
       "    <tr>\n",
       "      <th>3</th>\n",
       "      <td>2019-08-02</td>\n",
       "      <td>B</td>\n",
       "      <td>45</td>\n",
       "      <td>43</td>\n",
       "      <td>4243.8</td>\n",
       "      <td>1294</td>\n",
       "      <td>0.034776</td>\n",
       "    </tr>\n",
       "    <tr>\n",
       "      <th>4</th>\n",
       "      <td>2019-08-03</td>\n",
       "      <td>A</td>\n",
       "      <td>68</td>\n",
       "      <td>62</td>\n",
       "      <td>5675.5</td>\n",
       "      <td>1845</td>\n",
       "      <td>0.036856</td>\n",
       "    </tr>\n",
       "    <tr>\n",
       "      <th>...</th>\n",
       "      <td>...</td>\n",
       "      <td>...</td>\n",
       "      <td>...</td>\n",
       "      <td>...</td>\n",
       "      <td>...</td>\n",
       "      <td>...</td>\n",
       "      <td>...</td>\n",
       "    </tr>\n",
       "    <tr>\n",
       "      <th>57</th>\n",
       "      <td>2019-08-29</td>\n",
       "      <td>B</td>\n",
       "      <td>596</td>\n",
       "      <td>544</td>\n",
       "      <td>87343.0</td>\n",
       "      <td>17708</td>\n",
       "      <td>0.033657</td>\n",
       "    </tr>\n",
       "    <tr>\n",
       "      <th>58</th>\n",
       "      <td>2019-08-30</td>\n",
       "      <td>A</td>\n",
       "      <td>545</td>\n",
       "      <td>493</td>\n",
       "      <td>63563.5</td>\n",
       "      <td>18037</td>\n",
       "      <td>0.030216</td>\n",
       "    </tr>\n",
       "    <tr>\n",
       "      <th>59</th>\n",
       "      <td>2019-08-30</td>\n",
       "      <td>B</td>\n",
       "      <td>620</td>\n",
       "      <td>567</td>\n",
       "      <td>90736.3</td>\n",
       "      <td>18198</td>\n",
       "      <td>0.034070</td>\n",
       "    </tr>\n",
       "    <tr>\n",
       "      <th>60</th>\n",
       "      <td>2019-08-31</td>\n",
       "      <td>A</td>\n",
       "      <td>557</td>\n",
       "      <td>503</td>\n",
       "      <td>64554.9</td>\n",
       "      <td>18736</td>\n",
       "      <td>0.029729</td>\n",
       "    </tr>\n",
       "    <tr>\n",
       "      <th>61</th>\n",
       "      <td>2019-08-31</td>\n",
       "      <td>B</td>\n",
       "      <td>640</td>\n",
       "      <td>586</td>\n",
       "      <td>92840.6</td>\n",
       "      <td>18916</td>\n",
       "      <td>0.033834</td>\n",
       "    </tr>\n",
       "  </tbody>\n",
       "</table>\n",
       "<p>62 rows × 7 columns</p>\n",
       "</div>"
      ],
      "text/plain": [
       "         date group  orders  buyers  revenue  visitors  conversion\n",
       "0  2019-08-01     A      24      20   2356.8       719    0.033380\n",
       "1  2019-08-01     B      21      20   1620.0       713    0.029453\n",
       "2  2019-08-02     A      44      38   3860.3      1338    0.032885\n",
       "3  2019-08-02     B      45      43   4243.8      1294    0.034776\n",
       "4  2019-08-03     A      68      62   5675.5      1845    0.036856\n",
       "..        ...   ...     ...     ...      ...       ...         ...\n",
       "57 2019-08-29     B     596     544  87343.0     17708    0.033657\n",
       "58 2019-08-30     A     545     493  63563.5     18037    0.030216\n",
       "59 2019-08-30     B     620     567  90736.3     18198    0.034070\n",
       "60 2019-08-31     A     557     503  64554.9     18736    0.029729\n",
       "61 2019-08-31     B     640     586  92840.6     18916    0.033834\n",
       "\n",
       "[62 rows x 7 columns]"
      ]
     },
     "execution_count": 26,
     "metadata": {},
     "output_type": "execute_result"
    }
   ],
   "source": [
    "# calculating cumulative conversion\n",
    "cumulative_data['conversion'] = cumulative_data['orders']/cumulative_data['visitors']\n",
    "cumulative_data"
   ]
  },
  {
   "cell_type": "code",
   "execution_count": 27,
   "id": "3a503665",
   "metadata": {
    "ExecuteTime": {
     "end_time": "2023-08-15T09:32:07.777557Z",
     "start_time": "2023-08-15T09:32:07.605510Z"
    }
   },
   "outputs": [
    {
     "data": {
      "image/png": "[encoded data removed]",
      "text/plain": [
       "<Figure size 640x480 with 1 Axes>"
      ]
     },
     "metadata": {},
     "output_type": "display_data"
    }
   ],
   "source": [
    "# selecting data on group A \n",
    "cumulativeDataA = cumulative_data[cumulative_data['group']=='A']\n",
    "\n",
    "# selecting data on group B\n",
    "cumulativeDataB = cumulative_data[cumulative_data['group']=='B']\n",
    "\n",
    "# plotting the graphs\n",
    "plt.plot(cumulativeDataA['date'], cumulativeDataA['conversion'], label='A')\n",
    "plt.plot(cumulativeDataB['date'], cumulativeDataB['conversion'], label='B')\n",
    "\n",
    "# setting the axes' scale\n",
    "plt.axis([cumulative_data['date'].min(),cumulative_data['date'].max(), 0, 0.040]) \n",
    "\n",
    "# label and title\n",
    "plt.xlabel('Date')\n",
    "plt.xticks(rotation=30)\n",
    "plt.ylabel('Conversion')\n",
    "plt.title('Date per Conversion')\n",
    "plt.legend() \n",
    "plt.show()"
   ]
  },
  {
   "cell_type": "markdown",
   "id": "be731a93",
   "metadata": {},
   "source": [
    "**Explanation**\n",
    "\n",
    "From the graph, the conversion rates for both groups fluctuate over time, but the general trend is that group B has a higher conversion rate. Here, we can assumed that group B are more effective at converting visitors into buyers compared to group A. However, more information is needed to understand the reasons for the difference for both group."
   ]
  },
  {
   "cell_type": "markdown",
   "id": "a2b061df",
   "metadata": {},
   "source": [
    " "
   ]
  },
  {
   "cell_type": "markdown",
   "id": "ba8f4d8d",
   "metadata": {},
   "source": [
    "## Analyzing Outliers and Surges: Extreme Values"
   ]
  },
  {
   "cell_type": "markdown",
   "id": "f529426e",
   "metadata": {},
   "source": [
    "### Order per User"
   ]
  },
  {
   "cell_type": "code",
   "execution_count": 28,
   "id": "c9774c6c",
   "metadata": {
    "ExecuteTime": {
     "end_time": "2023-08-15T09:32:07.793561Z",
     "start_time": "2023-08-15T09:32:07.780558Z"
    }
   },
   "outputs": [
    {
     "data": {
      "text/html": [
       "<div>\n",
       "<style scoped>\n",
       "    .dataframe tbody tr th:only-of-type {\n",
       "        vertical-align: middle;\n",
       "    }\n",
       "\n",
       "    .dataframe tbody tr th {\n",
       "        vertical-align: top;\n",
       "    }\n",
       "\n",
       "    .dataframe thead th {\n",
       "        text-align: right;\n",
       "    }\n",
       "</style>\n",
       "<table border=\"1\" class=\"dataframe\">\n",
       "  <thead>\n",
       "    <tr style=\"text-align: right;\">\n",
       "      <th></th>\n",
       "      <th>users</th>\n",
       "      <th>order</th>\n",
       "    </tr>\n",
       "  </thead>\n",
       "  <tbody>\n",
       "    <tr>\n",
       "      <th>0</th>\n",
       "      <td>5114589</td>\n",
       "      <td>1</td>\n",
       "    </tr>\n",
       "    <tr>\n",
       "      <th>1</th>\n",
       "      <td>6958315</td>\n",
       "      <td>1</td>\n",
       "    </tr>\n",
       "    <tr>\n",
       "      <th>2</th>\n",
       "      <td>8300375</td>\n",
       "      <td>2</td>\n",
       "    </tr>\n",
       "    <tr>\n",
       "      <th>3</th>\n",
       "      <td>11685486</td>\n",
       "      <td>1</td>\n",
       "    </tr>\n",
       "    <tr>\n",
       "      <th>4</th>\n",
       "      <td>39475350</td>\n",
       "      <td>1</td>\n",
       "    </tr>\n",
       "  </tbody>\n",
       "</table>\n",
       "</div>"
      ],
      "text/plain": [
       "      users  order\n",
       "0   5114589      1\n",
       "1   6958315      1\n",
       "2   8300375      2\n",
       "3  11685486      1\n",
       "4  39475350      1"
      ]
     },
     "execution_count": 28,
     "metadata": {},
     "output_type": "execute_result"
    }
   ],
   "source": [
    "order_per_user = order.groupby('visitorId').agg({'transactionId':'nunique'})\n",
    "order_per_user = order_per_user.reset_index()\n",
    "order_per_user.columns = ['users','order']\n",
    "order_per_user.head()"
   ]
  },
  {
   "cell_type": "code",
   "execution_count": 29,
   "id": "c63bde5a",
   "metadata": {
    "ExecuteTime": {
     "end_time": "2023-08-15T09:32:07.921094Z",
     "start_time": "2023-08-15T09:32:07.794560Z"
    }
   },
   "outputs": [
    {
     "data": {
      "image/png": "[encoded data removed]",
      "text/plain": [
       "<Figure size 640x480 with 1 Axes>"
      ]
     },
     "metadata": {},
     "output_type": "display_data"
    }
   ],
   "source": [
    "x_values = pd.Series(range(0, len(order_per_user)))\n",
    "plt.scatter(x_values, order_per_user['order'])\n",
    "\n",
    "# label and title\n",
    "plt.xlabel('User Index')\n",
    "plt.ylabel('Order')\n",
    "plt.title('Order Per User Distribution') \n",
    "plt.show()"
   ]
  },
  {
   "cell_type": "markdown",
   "id": "075aacfd",
   "metadata": {},
   "source": [
    "**Explanation**\n",
    "\n",
    "From the graph, we can identify if the order have outliers or anomalies which can distort the results of an A/B test. Here, the graph show that there are several big orders in the data. From the graph, the normal order are around 1 order per user."
   ]
  },
  {
   "cell_type": "markdown",
   "id": "8da31c88",
   "metadata": {},
   "source": [
    "Lets find out the 95th and 99th percentiles for the number of orders per user and stated the point at which a data point becomes an anomaly "
   ]
  },
  {
   "cell_type": "code",
   "execution_count": 30,
   "id": "f45430f2",
   "metadata": {
    "ExecuteTime": {
     "end_time": "2023-08-15T09:32:07.937099Z",
     "start_time": "2023-08-15T09:32:07.922094Z"
    }
   },
   "outputs": [
    {
     "name": "stdout",
     "output_type": "stream",
     "text": [
      "[2. 4.]\n"
     ]
    }
   ],
   "source": [
    "print(np.percentile(order_per_user['order'], [95, 99])) "
   ]
  },
  {
   "cell_type": "markdown",
   "id": "bc57224a",
   "metadata": {},
   "source": [
    "**Explanation**\n",
    "\n",
    "From the percentile, the normal order is below 2. The 5% outliers are 2 and above can be assumed can distort the result for A/B test. "
   ]
  },
  {
   "cell_type": "markdown",
   "id": "7965a269",
   "metadata": {},
   "source": [
    "### Order Prices"
   ]
  },
  {
   "cell_type": "markdown",
   "id": "46b017be",
   "metadata": {},
   "source": [
    "Plot a scatter chart of order prices. Make conclusions and conjectures."
   ]
  },
  {
   "cell_type": "code",
   "execution_count": 31,
   "id": "097dc9eb",
   "metadata": {
    "ExecuteTime": {
     "end_time": "2023-08-15T09:32:08.079138Z",
     "start_time": "2023-08-15T09:32:07.938099Z"
    }
   },
   "outputs": [
    {
     "data": {
      "image/png": "[encoded data removed]",
      "text/plain": [
       "<Figure size 640x480 with 1 Axes>"
      ]
     },
     "metadata": {},
     "output_type": "display_data"
    }
   ],
   "source": [
    "x_values = pd.Series(range(0, len(order['revenue'])))\n",
    "plt.scatter(x_values, order['revenue'])\n",
    "\n",
    "# label and title\n",
    "plt.xlabel('User Index')\n",
    "plt.ylabel('Prices')\n",
    "plt.title('Order Prices Distribution') \n",
    "plt.show()"
   ]
  },
  {
   "cell_type": "markdown",
   "id": "d63f5d1c",
   "metadata": {},
   "source": [
    "**Explanation**\n",
    "\n",
    "From the graph, there are 2 point that very significant different from the rest. this 2 points can distort the result for A/B test. The normal order prices are below 2500. Therefore, this 5% outliers can be assumed can distort the result for A/B test. "
   ]
  },
  {
   "cell_type": "markdown",
   "id": "5d915452",
   "metadata": {},
   "source": [
    "Lets find out the 5% outliers values from order prices."
   ]
  },
  {
   "cell_type": "markdown",
   "id": "7d24f458",
   "metadata": {},
   "source": [
    "Calculate the 95th and 99th percentiles of order prices. Define the point at which a data point becomes an anomaly."
   ]
  },
  {
   "cell_type": "code",
   "execution_count": 32,
   "id": "0a4a4a7a",
   "metadata": {
    "ExecuteTime": {
     "end_time": "2023-08-15T09:32:08.095140Z",
     "start_time": "2023-08-15T09:32:08.080137Z"
    }
   },
   "outputs": [
    {
     "name": "stdout",
     "output_type": "stream",
     "text": [
      "[435.54  900.904]\n"
     ]
    }
   ],
   "source": [
    "print(np.percentile(order['revenue'], [95, 99])) "
   ]
  },
  {
   "cell_type": "code",
   "execution_count": 33,
   "id": "b4c6366e",
   "metadata": {
    "ExecuteTime": {
     "end_time": "2023-08-15T09:32:08.111143Z",
     "start_time": "2023-08-15T09:32:08.096140Z"
    }
   },
   "outputs": [
    {
     "data": {
      "text/plain": [
       "count     1197.000000\n",
       "mean       131.491646\n",
       "std        603.004729\n",
       "min          5.000000\n",
       "25%         20.800000\n",
       "50%         50.200000\n",
       "75%        130.400000\n",
       "max      19920.400000\n",
       "Name: revenue, dtype: float64"
      ]
     },
     "execution_count": 33,
     "metadata": {},
     "output_type": "execute_result"
    }
   ],
   "source": [
    "order['revenue'].describe()"
   ]
  },
  {
   "cell_type": "markdown",
   "id": "f31ea1f3",
   "metadata": {},
   "source": [
    "**Explanation**\n",
    "\n",
    "Here, we can see the 5% outliers value started from 435.54 and above. From the .describe(), the 75 percentile only reach 130.40. There are some significant different between the 75 percentile and 95 percentile.  "
   ]
  },
  {
   "cell_type": "markdown",
   "id": "74390c59",
   "metadata": {},
   "source": [
    " "
   ]
  },
  {
   "cell_type": "markdown",
   "id": "ecaa3018",
   "metadata": {},
   "source": [
    "##  Statistical Significance "
   ]
  },
  {
   "cell_type": "markdown",
   "id": "7ea75726",
   "metadata": {},
   "source": [
    "### Raw Data"
   ]
  },
  {
   "cell_type": "markdown",
   "id": "c7a80c96",
   "metadata": {},
   "source": [
    "The data is calculated using original data without filtering the anomalies"
   ]
  },
  {
   "cell_type": "markdown",
   "id": "01ade6a8",
   "metadata": {},
   "source": [
    "#### Statistical Significance of the Difference in Conversion between Groups."
   ]
  },
  {
   "cell_type": "code",
   "execution_count": 34,
   "id": "59b4164f",
   "metadata": {
    "ExecuteTime": {
     "end_time": "2023-08-15T09:32:08.143188Z",
     "start_time": "2023-08-15T09:32:08.112143Z"
    }
   },
   "outputs": [
    {
     "name": "stdout",
     "output_type": "stream",
     "text": [
      "0.017\n",
      "0.138\n"
     ]
    }
   ],
   "source": [
    "ordersByUsersA = order[order['group']=='A'].groupby('visitorId', as_index=False).agg({'transactionId' : 'nunique'})\n",
    "ordersByUsersA.columns = ['visitorId', 'orders']\n",
    "\n",
    "ordersByUsersB = order[order['group']=='B'].groupby('visitorId', as_index=False).agg({'transactionId' : 'nunique'})\n",
    "ordersByUsersB.columns = ['visitorId', 'orders']\n",
    "\n",
    "sampleA = pd.concat([ordersByUsersA['orders'],pd.Series(0, index=np.arange(visitor[visitor['group']=='A']['visits'].sum() - len(ordersByUsersA['orders'])), name='orders')],axis=0)\n",
    "\n",
    "sampleB = pd.concat([ordersByUsersB['orders'],pd.Series(0, index=np.arange(visitor[visitor['group']=='B']['visits'].sum() - len(ordersByUsersB['orders'])), name='orders')],axis=0)\n",
    "\n",
    "print(\"{0:.3f}\".format(stats.mannwhitneyu(sampleA, sampleB)[1]))\n",
    "print(\"{0:.3f}\".format(sampleB.mean()/sampleA.mean()-1))"
   ]
  },
  {
   "cell_type": "markdown",
   "id": "16ca5f2f",
   "metadata": {},
   "source": [
    "**Explanation**\n",
    "\n",
    "The first row of the output gives us the p-value, 0.017, which is below than 0.05. So we reject the null hypothesis that there's not a statistically significant difference in conversion between the groups. \n",
    "\n",
    "The conversion rate in sample B is about 13.8% higher than that in sample A.This provides a measure of the size of the difference between the two groups."
   ]
  },
  {
   "cell_type": "markdown",
   "id": "daa59aec",
   "metadata": {},
   "source": [
    "#### Statistical Significance of the Difference in Average Order Size between Groups."
   ]
  },
  {
   "cell_type": "code",
   "execution_count": 35,
   "id": "2da961b2",
   "metadata": {
    "ExecuteTime": {
     "end_time": "2023-08-15T09:32:08.159191Z",
     "start_time": "2023-08-15T09:32:08.144188Z"
    }
   },
   "outputs": [
    {
     "name": "stdout",
     "output_type": "stream",
     "text": [
      "0.692\n",
      "0.252\n"
     ]
    }
   ],
   "source": [
    "print('{0:.3f}'.format(stats.mannwhitneyu(order[order['group']=='A']['revenue'], order[order['group']=='B']['revenue'])[1]))\n",
    "print('{0:.3f}'.format(order[order['group']=='B']['revenue'].mean()/order[order['group']=='A']['revenue'].mean()-1)) "
   ]
  },
  {
   "cell_type": "markdown",
   "id": "3e7ac9e4",
   "metadata": {},
   "source": [
    "**Explanation**\n",
    "\n",
    "The first row of the output gives us the p-value, 0.692, which is higher than 0.05. So we can't reject the null hypothesis that there's not a statistically significant difference in average order size between the groups. \n",
    "\n",
    "The relative difference in average order size in sample B is about 25.2% larger than sample A.This provides the relative difference in average order size between groups."
   ]
  },
  {
   "cell_type": "markdown",
   "id": "3e29c1f1",
   "metadata": {},
   "source": [
    "### Filtered Data"
   ]
  },
  {
   "cell_type": "markdown",
   "id": "7d80326e",
   "metadata": {},
   "source": [
    "The data is calculated using filtered data without the anomalies"
   ]
  },
  {
   "cell_type": "markdown",
   "id": "80065c61",
   "metadata": {},
   "source": [
    "#### Statistical Significance of the Difference in Conversion between Groups"
   ]
  },
  {
   "cell_type": "code",
   "execution_count": 36,
   "id": "ad3560f6",
   "metadata": {
    "ExecuteTime": {
     "end_time": "2023-08-15T09:32:08.175195Z",
     "start_time": "2023-08-15T09:32:08.160193Z"
    }
   },
   "outputs": [
    {
     "name": "stdout",
     "output_type": "stream",
     "text": [
      "1099    148427295\n",
      "18      199603092\n",
      "928     204675465\n",
      "23      237748145\n",
      "37      249864742\n",
      "Name: visitorId, dtype: int64\n",
      "(74,)\n"
     ]
    }
   ],
   "source": [
    "usersWithManyOrders = pd.concat([ordersByUsersA[ordersByUsersA['orders'] > 2]['visitorId'], ordersByUsersB[ordersByUsersB['orders'] > 2]['visitorId']], axis = 0)\n",
    "usersWithExpensiveOrders = order[order['revenue'] > 435.54]['visitorId']\n",
    "abnormalUsers = pd.concat([usersWithManyOrders, usersWithExpensiveOrders], axis = 0).drop_duplicates().sort_values()\n",
    "print(abnormalUsers.head(5))\n",
    "print(abnormalUsers.shape) "
   ]
  },
  {
   "cell_type": "code",
   "execution_count": 37,
   "id": "61c862d0",
   "metadata": {
    "ExecuteTime": {
     "end_time": "2023-08-15T09:32:08.191198Z",
     "start_time": "2023-08-15T09:32:08.176195Z"
    }
   },
   "outputs": [],
   "source": [
    "sampleAFiltered = pd.concat([ordersByUsersA[np.logical_not(ordersByUsersA['visitorId'].isin(abnormalUsers))]['orders'],pd.Series(0, index=np.arange(visitor[visitor['group']=='A']['visits'].sum() - len(ordersByUsersA['orders'])),name='orders')],axis=0)\n",
    "\n",
    "sampleBFiltered = pd.concat([ordersByUsersB[np.logical_not(ordersByUsersB['visitorId'].isin(abnormalUsers))]['orders'],pd.Series(0, index=np.arange(visitor[visitor['group']=='B']['visits'].sum() - len(ordersByUsersB['orders'])),name='orders')],axis=0)"
   ]
  },
  {
   "cell_type": "code",
   "execution_count": 38,
   "id": "809d261b",
   "metadata": {
    "ExecuteTime": {
     "end_time": "2023-08-15T09:32:08.222207Z",
     "start_time": "2023-08-15T09:32:08.192199Z"
    }
   },
   "outputs": [
    {
     "name": "stdout",
     "output_type": "stream",
     "text": [
      "0.013\n",
      "0.173\n"
     ]
    }
   ],
   "source": [
    "print(\"{0:.3f}\".format(stats.mannwhitneyu(sampleAFiltered, sampleBFiltered)[1]))\n",
    "print(\"{0:.3f}\".format(sampleBFiltered.mean()/sampleAFiltered.mean()-1)) "
   ]
  },
  {
   "cell_type": "markdown",
   "id": "e3cb8a08",
   "metadata": {},
   "source": [
    "**Explanation**\n",
    "\n",
    "The first row of the output gives us the p-value, 0.013, which is below than 0.05. So we reject the null hypothesis that there's not a statistically significant difference in conversion between the groups. \n",
    "\n",
    "The conversion rate in sample B is about 17.3% higher than that in sample A.This provides a measure of the size of the difference between the two groups."
   ]
  },
  {
   "cell_type": "markdown",
   "id": "6d261eb6",
   "metadata": {},
   "source": [
    "#### Statistical Significance of the Difference in Average Order Size between Groups."
   ]
  },
  {
   "cell_type": "code",
   "execution_count": 39,
   "id": "48eab952",
   "metadata": {
    "ExecuteTime": {
     "end_time": "2023-08-15T09:32:08.238210Z",
     "start_time": "2023-08-15T09:32:08.223205Z"
    }
   },
   "outputs": [
    {
     "name": "stdout",
     "output_type": "stream",
     "text": [
      "0.788\n",
      "-0.019\n"
     ]
    }
   ],
   "source": [
    "print('{0:.3f}'.format(stats.mannwhitneyu(\n",
    "    order[np.logical_and(\n",
    "        order['group']=='A',\n",
    "        np.logical_not(order['visitorId'].isin(abnormalUsers)))]['revenue'],\n",
    "    order[np.logical_and(\n",
    "        order['group']=='B',\n",
    "        np.logical_not(order['visitorId'].isin(abnormalUsers)))]['revenue'])[1]))\n",
    "\n",
    "print('{0:.3f}'.format(\n",
    "    order[np.logical_and(order['group']=='B',np.logical_not(order['visitorId'].isin(abnormalUsers)))]['revenue'].mean()/\n",
    "    order[np.logical_and(\n",
    "        order['group']=='A',\n",
    "        np.logical_not(order['visitorId'].isin(abnormalUsers)))]['revenue'].mean() - 1)) "
   ]
  },
  {
   "cell_type": "markdown",
   "id": "71c720b1",
   "metadata": {},
   "source": [
    "**Explanation**\n",
    "\n",
    "The first row of the output gives us the p-value, 0.788, which is higher than 0.05. So we can't reject the null hypothesis that there's not a statistically significant difference in average order size between the groups. \n",
    "\n",
    "The relative difference in average order size in sample B is about 1.9% smaller than sample A. This provides the relative difference in average order size between groups. Compared with the raw data, sample B is about 25.2% larger than sample A. Here, the relative difference in average order size in sample B is depleted around 27.1% comapred with sample A."
   ]
  },
  {
   "cell_type": "markdown",
   "id": "832f306b",
   "metadata": {},
   "source": [
    "## Decisions from A/B Test"
   ]
  },
  {
   "cell_type": "markdown",
   "id": "bb20f92b",
   "metadata": {},
   "source": [
    "**Points**\n",
    "\n",
    "- Data collected only for one month period\n",
    "\n",
    "- There's a statistically significant difference in conversion between the groups, according to both the raw and the filtered data.\n",
    "\n",
    "- The raw data show a statistically significant difference between the groups in terms of average purchase size. However, after the anomalies were removed, it turned out there was a statistically significant difference which cause the result change from the group B was larger than group A, turn out group B have was smaller than group A.\n",
    "\n",
    "- The graph of the cumulative in conversion between the groups shows group B has a higher conversion rate than group A. We can assumed that group B are more effective at converting visitors into buyers compared to group A.\n",
    "\n",
    "- The graph of the difference in average purchase size shows fluctuations: it was this graph that allowed you to detect anomalies. You can't draw any definite conclusions from this graph. "
   ]
  },
  {
   "cell_type": "markdown",
   "id": "367866ba",
   "metadata": {},
   "source": [
    "Overall conclusion, the data shows statistically significant differences in conversion rates and average purchase size between the groups, both in the raw and filtered data. Additionally, the graph of the cumulative conversion rates indicates that group B is more effective at converting visitors into buyers. However, the result still show no difference between the groups.Therefore, it would be the best if the test to be continued and gather more data to gain a better understanding of the differences between the groups. Plus, the data only abserve on 1 month period which it was very short time to conclude everything."
   ]
  }
 ],
 "metadata": {
  "kernelspec": {
   "display_name": "Python 3 (ipykernel)",
   "language": "python",
   "name": "python3"
  },
  "language_info": {
   "codemirror_mode": {
    "name": "ipython",
    "version": 3
   },
   "file_extension": ".py",
   "mimetype": "text/x-python",
   "name": "python",
   "nbconvert_exporter": "python",
   "pygments_lexer": "ipython3",
   "version": "3.10.9"
  },
  "nbTranslate": {
   "displayLangs": [
    "*"
   ],
   "hotkey": "alt-t",
   "langInMainMenu": true,
   "sourceLang": "en",
   "targetLang": "fr",
   "useGoogleTranslate": true
  },
  "toc": {
   "base_numbering": 1,
   "nav_menu": {},
   "number_sections": true,
   "sideBar": true,
   "skip_h1_title": false,
   "title_cell": "Table of Contents",
   "title_sidebar": "Contents",
   "toc_cell": false,
   "toc_position": {
    "height": "calc(100% - 180px)",
    "left": "10px",
    "top": "150px",
    "width": "165px"
   },
   "toc_section_display": true,
   "toc_window_display": true
  }
 },
 "nbformat": 4,
 "nbformat_minor": 5
}
